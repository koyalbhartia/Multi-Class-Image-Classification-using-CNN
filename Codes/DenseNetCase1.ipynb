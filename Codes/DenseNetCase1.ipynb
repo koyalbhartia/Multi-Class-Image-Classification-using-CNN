{
 "cells": [
  {
   "cell_type": "code",
   "execution_count": 1,
   "metadata": {
    "_cell_guid": "b1076dfc-b9ad-4769-8c92-a6c4dae69d19",
    "_uuid": "8f2839f25d086af736a60e9eeb907d3b93b6e0e5"
   },
   "outputs": [
    {
     "name": "stdout",
     "output_type": "stream",
     "text": [
      "['koko-newdata', 'reducing-image-sizes-to-32x32', 'iwildcam-2019-fgvc6', 'densenet']\n"
     ]
    }
   ],
   "source": [
    "# This Python 3 environment comes with many helpful analytics libraries installed\n",
    "# It is defined by the kaggle/python docker image: https://github.com/kaggle/docker-python\n",
    "# For example, here's several helpful packages to load in \n",
    "\n",
    "import numpy as np # linear algebra\n",
    "import pandas as pd # data processing, CSV file I/O (e.g. pd.read_csv)\n",
    "\n",
    "# Input data files are available in the \"../input/\" directory.\n",
    "# For example, running this (by clicking run or pressing Shift+Enter) will list the files in the input directory\n",
    "\n",
    "import os\n",
    "print(os.listdir(\"../input\"))\n",
    "\n",
    "# Any results you write to the current directory are saved as output."
   ]
  },
  {
   "cell_type": "code",
   "execution_count": 2,
   "metadata": {
    "_cell_guid": "79c7e3d0-c299-4dcb-8224-4455121ee9b0",
    "_uuid": "d629ff2d2480ee46fbb7e2d37f6b5fab8052498a"
   },
   "outputs": [
    {
     "name": "stderr",
     "output_type": "stream",
     "text": [
      "Using TensorFlow backend.\n"
     ]
    }
   ],
   "source": [
    "import os\n",
    "import json\n",
    "\n",
    "import numpy as np\n",
    "import pandas as pd\n",
    "import keras\n",
    "from keras import layers\n",
    "from keras.applications import DenseNet121\n",
    "from keras.callbacks import Callback, ModelCheckpoint\n",
    "from keras.preprocessing.image import ImageDataGenerator\n",
    "from keras.layers import Dense, Dropout, Activation, Flatten\n",
    "from keras.layers import Conv2D, MaxPooling2D\n",
    "from keras.models import Sequential\n",
    "from sklearn.model_selection import train_test_split\n",
    "from sklearn.metrics import confusion_matrix, f1_score, precision_score, recall_score"
   ]
  },
  {
   "cell_type": "code",
   "execution_count": 3,
   "metadata": {},
   "outputs": [
    {
     "name": "stdout",
     "output_type": "stream",
     "text": [
      "x_train shape: (98150, 32, 32, 3)\n",
      "98150 train samples\n",
      "9815 test samples\n"
     ]
    }
   ],
   "source": [
    "x_train = np.load('../input/koko-newdata/X_newtrain.npy')\n",
    "#x_test = np.load('../input/koko-newdata/X_newtest.npy')\n",
    "x_test = np.load('../input/reducing-image-sizes-to-32x32/X_newtest.npy')\n",
    "y_train = np.load('../input/koko-newdata/y_newtrain.npy')\n",
    "\n",
    "print('x_train shape:', x_train.shape)\n",
    "print(x_train.shape[0], 'train samples')\n",
    "print(x_test.shape[0], 'test samples')"
   ]
  },
  {
   "cell_type": "code",
   "execution_count": 4,
   "metadata": {},
   "outputs": [],
   "source": [
    "x_train = x_train.astype('float32')\n",
    "x_test = x_test.astype('float32')\n",
    "x_train /= 255.\n",
    "x_test /= 255."
   ]
  },
  {
   "cell_type": "code",
   "execution_count": 5,
   "metadata": {},
   "outputs": [],
   "source": [
    "class Metrics(Callback):\n",
    "    def on_train_begin(self, logs={}):\n",
    "        self.val_f1s = []\n",
    "        self.val_recalls = []\n",
    "        self.val_precisions = []\n",
    "\n",
    "    def on_epoch_end(self, epoch, logs={}):\n",
    "        X_val, y_val = self.validation_data[:2]\n",
    "        y_pred = self.model.predict(X_val)\n",
    "\n",
    "        y_pred_cat = keras.utils.to_categorical(\n",
    "            y_pred.argmax(axis=1),\n",
    "            num_classes=14\n",
    "        )\n",
    "\n",
    "        _val_f1 = f1_score(y_val, y_pred_cat, average='macro')\n",
    "        _val_recall = recall_score(y_val, y_pred_cat, average='macro')\n",
    "        _val_precision = precision_score(y_val, y_pred_cat, average='macro')\n",
    "\n",
    "        self.val_f1s.append(_val_f1)\n",
    "        self.val_recalls.append(_val_recall)\n",
    "        self.val_precisions.append(_val_precision)\n",
    "\n",
    "        print((f\"val_f1: {_val_f1:.4f}\"\n",
    "               f\" — val_precision: {_val_precision:.4f}\"\n",
    "               f\" — val_recall: {_val_recall:.4f}\"))\n",
    "\n",
    "        return\n",
    "\n",
    "f1_metrics = Metrics()"
   ]
  },
  {
   "cell_type": "code",
   "execution_count": 6,
   "metadata": {},
   "outputs": [
    {
     "name": "stdout",
     "output_type": "stream",
     "text": [
      "WARNING:tensorflow:From /opt/conda/lib/python3.6/site-packages/tensorflow/python/framework/op_def_library.py:263: colocate_with (from tensorflow.python.framework.ops) is deprecated and will be removed in a future version.\n",
      "Instructions for updating:\n",
      "Colocations handled automatically by placer.\n"
     ]
    }
   ],
   "source": [
    "densenet = DenseNet121(\n",
    "    weights='../input/densenet/DenseNet-BC-121-32-no-top.h5',\n",
    "    include_top=False,\n",
    "    input_shape=(32,32,3)\n",
    ")"
   ]
  },
  {
   "cell_type": "code",
   "execution_count": 7,
   "metadata": {},
   "outputs": [],
   "source": [
    "model = Sequential()\n",
    "model.add(densenet)\n",
    "model.add(layers.GlobalAveragePooling2D())\n",
    "model.add(layers.Dense(14, activation='softmax'))"
   ]
  },
  {
   "cell_type": "code",
   "execution_count": 8,
   "metadata": {},
   "outputs": [
    {
     "name": "stdout",
     "output_type": "stream",
     "text": [
      "_________________________________________________________________\n",
      "Layer (type)                 Output Shape              Param #   \n",
      "=================================================================\n",
      "densenet121 (Model)          (None, 1, 1, 1024)        7037504   \n",
      "_________________________________________________________________\n",
      "global_average_pooling2d_1 ( (None, 1024)              0         \n",
      "_________________________________________________________________\n",
      "dense_1 (Dense)              (None, 14)                14350     \n",
      "=================================================================\n",
      "Total params: 7,051,854\n",
      "Trainable params: 6,968,206\n",
      "Non-trainable params: 83,648\n",
      "_________________________________________________________________\n"
     ]
    }
   ],
   "source": [
    "model.compile(loss='categorical_crossentropy',\n",
    "              optimizer='adamax',\n",
    "              metrics=['accuracy'])\n",
    "\n",
    "model.summary()"
   ]
  },
  {
   "cell_type": "code",
   "execution_count": 10,
   "metadata": {},
   "outputs": [
    {
     "name": "stdout",
     "output_type": "stream",
     "text": [
      "Train on 93242 samples, validate on 4908 samples\n",
      "Epoch 1/3\n",
      "93242/93242 [==============================] - 2313s 25ms/step - loss: 0.6166 - acc: 0.8052 - val_loss: 0.5180 - val_acc: 0.8301\n",
      "\n",
      "Epoch 00001: val_acc improved from -inf to 0.83007, saving model to model.h5\n"
     ]
    },
    {
     "name": "stderr",
     "output_type": "stream",
     "text": [
      "/opt/conda/lib/python3.6/site-packages/sklearn/metrics/classification.py:1143: UndefinedMetricWarning: F-score is ill-defined and being set to 0.0 in labels with no predicted samples.\n",
      "  'precision', 'predicted', average, warn_for)\n",
      "/opt/conda/lib/python3.6/site-packages/sklearn/metrics/classification.py:1143: UndefinedMetricWarning: Precision is ill-defined and being set to 0.0 in labels with no predicted samples.\n",
      "  'precision', 'predicted', average, warn_for)\n"
     ]
    },
    {
     "name": "stdout",
     "output_type": "stream",
     "text": [
      "val_f1: 0.4900 — val_precision: 0.5334 — val_recall: 0.4756\n",
      "Epoch 2/3\n",
      "93242/93242 [==============================] - 2280s 24ms/step - loss: 0.4534 - acc: 0.8535 - val_loss: 0.4130 - val_acc: 0.8608\n",
      "\n",
      "Epoch 00002: val_acc improved from 0.83007 to 0.86084, saving model to model.h5\n",
      "val_f1: 0.5775 — val_precision: 0.6449 — val_recall: 0.5528\n",
      "Epoch 3/3\n",
      "93242/93242 [==============================] - 2257s 24ms/step - loss: 0.3534 - acc: 0.8837 - val_loss: 0.3949 - val_acc: 0.8674\n",
      "\n",
      "Epoch 00003: val_acc improved from 0.86084 to 0.86736, saving model to model.h5\n",
      "val_f1: 0.6065 — val_precision: 0.6577 — val_recall: 0.5874\n"
     ]
    }
   ],
   "source": [
    "checkpoint = ModelCheckpoint(\n",
    "    'model.h5', \n",
    "    monitor='val_acc', \n",
    "    verbose=1, \n",
    "    save_best_only=True, \n",
    "    save_weights_only=False,\n",
    "    mode='auto'\n",
    ")\n",
    "\n",
    "history = model.fit(\n",
    "    x=x_train,\n",
    "    y=y_train,\n",
    "    batch_size=32,\n",
    "    epochs=3,\n",
    "    callbacks=[checkpoint, f1_metrics],\n",
    "    validation_split=0.05\n",
    ")"
   ]
  },
  {
   "cell_type": "code",
   "execution_count": 11,
   "metadata": {},
   "outputs": [
    {
     "data": {
      "text/plain": [
       "<matplotlib.axes._subplots.AxesSubplot at 0x7f05729744a8>"
      ]
     },
     "execution_count": 11,
     "metadata": {},
     "output_type": "execute_result"
    },
    {
     "data": {
      "image/png": "[encoded data removed]",
      "text/plain": [
       "<Figure size 432x288 with 1 Axes>"
      ]
     },
     "metadata": {},
     "output_type": "display_data"
    },
    {
     "data": {
      "image/png": "[encoded data removed]",
      "text/plain": [
       "<Figure size 432x288 with 1 Axes>"
      ]
     },
     "metadata": {},
     "output_type": "display_data"
    },
    {
     "data": {
      "image/png": "[encoded data removed]",
      "text/plain": [
       "<Figure size 432x288 with 1 Axes>"
      ]
     },
     "metadata": {},
     "output_type": "display_data"
    }
   ],
   "source": [
    "with open('history.json', 'w') as f:\n",
    "    json.dump(history.history, f)\n",
    "\n",
    "history_df = pd.DataFrame(history.history)\n",
    "history_df['val_f1'] = f1_metrics.val_f1s\n",
    "history_df['val_precision'] = f1_metrics.val_precisions\n",
    "history_df['val_recall'] = f1_metrics.val_recalls\n",
    "history_df[['loss', 'val_loss']].plot()\n",
    "history_df[['acc', 'val_acc']].plot()\n",
    "history_df[['val_f1', 'val_precision', 'val_recall']].plot()"
   ]
  },
  {
   "cell_type": "code",
   "execution_count": 12,
   "metadata": {},
   "outputs": [],
   "source": [
    "model.load_weights('model.h5')\n",
    "y_train=np.load('../input/koko-newdata/y_coltrain.npy')\n",
    "y_predict = model.predict(x_train)\n",
    "y_predict=y_predict.argmax(axis=1)"
   ]
  },
  {
   "cell_type": "code",
   "execution_count": 13,
   "metadata": {},
   "outputs": [
    {
     "name": "stdout",
     "output_type": "stream",
     "text": [
      "Accuracy: 0.6838003056546103\n",
      "F1 score: 0.6832325553012545\n",
      "Recall: 0.6838003056546103\n",
      "Precision: 0.683871123261332\n",
      "\n",
      " clasification report:\n",
      "               precision    recall  f1-score   support\n",
      "\n",
      "           0       0.97      0.98      0.98     65650\n",
      "           1       0.92      0.90      0.91      3093\n",
      "           2       0.00      0.00      0.00         0\n",
      "           3       0.00      0.00      0.00      1660\n",
      "           4       0.01      0.02      0.01      1106\n",
      "           5       0.00      0.00      0.00         0\n",
      "           6       0.00      0.00      0.00         0\n",
      "           7       0.00      0.00      0.00         0\n",
      "           8       0.03      0.00      0.01      3529\n",
      "           9       0.00      0.00      0.00         0\n",
      "          10       0.00      0.01      0.01       529\n",
      "          11       0.05      0.02      0.03      3577\n",
      "          12       0.00      0.00      0.00         0\n",
      "          13       0.00      0.00      0.00      4286\n",
      "          14       0.00      0.00      0.00       689\n",
      "          16       0.00      0.00      0.00      3001\n",
      "          17       0.00      0.00      0.00      2393\n",
      "          18       0.00      0.00      0.00      1513\n",
      "          19       0.00      0.00      0.00      7106\n",
      "          22       0.00      0.00      0.00        18\n",
      "\n",
      "   micro avg       0.68      0.68      0.68     98150\n",
      "   macro avg       0.10      0.10      0.10     98150\n",
      "weighted avg       0.68      0.68      0.68     98150\n",
      "\n"
     ]
    },
    {
     "name": "stderr",
     "output_type": "stream",
     "text": [
      "/opt/conda/lib/python3.6/site-packages/sklearn/metrics/classification.py:1143: UndefinedMetricWarning: F-score is ill-defined and being set to 0.0 in labels with no predicted samples.\n",
      "  'precision', 'predicted', average, warn_for)\n",
      "/opt/conda/lib/python3.6/site-packages/sklearn/metrics/classification.py:1145: UndefinedMetricWarning: F-score is ill-defined and being set to 0.0 in labels with no true samples.\n",
      "  'recall', 'true', average, warn_for)\n",
      "/opt/conda/lib/python3.6/site-packages/sklearn/metrics/classification.py:1145: UndefinedMetricWarning: Recall is ill-defined and being set to 0.0 in labels with no true samples.\n",
      "  'recall', 'true', average, warn_for)\n",
      "/opt/conda/lib/python3.6/site-packages/sklearn/metrics/classification.py:1143: UndefinedMetricWarning: Precision is ill-defined and being set to 0.0 in labels with no predicted samples.\n",
      "  'precision', 'predicted', average, warn_for)\n",
      "/opt/conda/lib/python3.6/site-packages/sklearn/metrics/classification.py:1143: UndefinedMetricWarning: Precision and F-score are ill-defined and being set to 0.0 in labels with no predicted samples.\n",
      "  'precision', 'predicted', average, warn_for)\n",
      "/opt/conda/lib/python3.6/site-packages/sklearn/metrics/classification.py:1145: UndefinedMetricWarning: Recall and F-score are ill-defined and being set to 0.0 in labels with no true samples.\n",
      "  'recall', 'true', average, warn_for)\n"
     ]
    },
    {
     "name": "stdout",
     "output_type": "stream",
     "text": [
      "\n",
      " confussion matrix:\n",
      " [[64209   115   211   110   172    26   112   109    29    55    27    58\n",
      "    417     0     0     0     0     0     0     0]\n",
      " [  247  2797     0     3     6     3    12     5     4     5     7     2\n",
      "      2     0     0     0     0     0     0     0]\n",
      " [    0     0     0     0     0     0     0     0     0     0     0     0\n",
      "      0     0     0     0     0     0     0     0]\n",
      " [   96     0  1436     0    65     0     4     0     0     3     9    41\n",
      "      6     0     0     0     0     0     0     0]\n",
      " [  117     0     1   873    17     2     1    38     1     3     1     0\n",
      "     52     0     0     0     0     0     0     0]\n",
      " [    0     0     0     0     0     0     0     0     0     0     0     0\n",
      "      0     0     0     0     0     0     0     0]\n",
      " [    0     0     0     0     0     0     0     0     0     0     0     0\n",
      "      0     0     0     0     0     0     0     0]\n",
      " [    0     0     0     0     0     0     0     0     0     0     0     0\n",
      "      0     0     0     0     0     0     0     0]\n",
      " [  276     7    75    51  2572     5    64    18    13    64    21    21\n",
      "    342     0     0     0     0     0     0     0]\n",
      " [    0     0     0     0     0     0     0     0     0     0     0     0\n",
      "      0     0     0     0     0     0     0     0]\n",
      " [   95    21     0    19     0   351     7    11    17     0     7     0\n",
      "      1     0     0     0     0     0     0     0]\n",
      " [  274    71    14     5   122    27  2235    53    54    95    40    72\n",
      "    515     0     0     0     0     0     0     0]\n",
      " [    0     0     0     0     0     0     0     0     0     0     0     0\n",
      "      0     0     0     0     0     0     0     0]\n",
      " [  221     2     0    16    48    16    30  2393     4    36   128     2\n",
      "   1390     0     0     0     0     0     0     0]\n",
      " [   69     8     0    20     9    21    25    49   287    17    24     0\n",
      "    160     0     0     0     0     0     0     0]\n",
      " [  170    17     0    18   116    38   306   137    61  1316    57    12\n",
      "    753     0     0     0     0     0     0     0]\n",
      " [    6     0   141     2    81     0     6    37     0     9  1267    16\n",
      "    828     0     0     0     0     0     0     0]\n",
      " [   34     1    61     0    79     0    18     0     0     9    61  1207\n",
      "     43     0     0     0     0     0     0     0]\n",
      " [   55     0     2     6    42     0    21   232     4    49    44     3\n",
      "   6648     0     0     0     0     0     0     0]\n",
      " [    1     3     0     0     0     0     0     0     1     0     5     4\n",
      "      0     4     0     0     0     0     0     0]]\n"
     ]
    }
   ],
   "source": [
    "from sklearn.metrics import confusion_matrix,accuracy_score,f1_score \n",
    "from sklearn.metrics import recall_score,precision_score,classification_report \n",
    "print('Accuracy:', accuracy_score(y_train, y_predict))\n",
    "print('F1 score:', f1_score(y_train, y_predict,average='weighted'))\n",
    "print('Recall:', recall_score(y_train, y_predict,\n",
    "                              average='weighted'))\n",
    "print('Precision:', precision_score(y_train, y_predict,\n",
    "                                    average='weighted'))\n",
    "print('\\n clasification report:\\n', classification_report(y_train, y_predict))\n",
    "print('\\n confussion matrix:\\n',confusion_matrix(y_train, y_predict))"
   ]
  },
  {
   "cell_type": "code",
   "execution_count": 14,
   "metadata": {},
   "outputs": [],
   "source": [
    "y_test=np.load('../input/koko-newdata/y_coltest.npy')\n",
    "y_predict_test = model.predict(x_test)\n",
    "y_predict_test=y_predict_test.argmax(axis=1)"
   ]
  },
  {
   "cell_type": "code",
   "execution_count": 15,
   "metadata": {},
   "outputs": [
    {
     "name": "stdout",
     "output_type": "stream",
     "text": [
      "Accuracy: 0.6812022414671421\n",
      "F1 score: 0.6807824587940099\n",
      "Recall: 0.6812022414671421\n",
      "Precision: 0.6829454036877467\n",
      "\n",
      " clasification report:\n",
      "               precision    recall  f1-score   support\n",
      "\n",
      "           0       0.97      0.97      0.97      6566\n",
      "           1       0.88      0.85      0.86       343\n",
      "           2       0.00      0.00      0.00         0\n",
      "           3       0.00      0.00      0.00       185\n",
      "           4       0.00      0.01      0.00       104\n",
      "           5       0.00      0.00      0.00         0\n",
      "           6       0.00      0.00      0.00         0\n",
      "           7       0.00      0.00      0.00         0\n",
      "           8       0.09      0.01      0.02       345\n",
      "           9       0.00      0.00      0.00         0\n",
      "          10       0.00      0.00      0.00        58\n",
      "          11       0.07      0.03      0.04       370\n",
      "          12       0.00      0.00      0.00         0\n",
      "          13       0.00      0.00      0.00       421\n",
      "          14       0.00      0.00      0.00        58\n",
      "          16       0.00      0.00      0.00       293\n",
      "          17       0.00      0.00      0.00       241\n",
      "          18       0.00      0.00      0.00       164\n",
      "          19       0.00      0.00      0.00       665\n",
      "          22       0.00      0.00      0.00         2\n",
      "\n",
      "   micro avg       0.68      0.68      0.68      9815\n",
      "   macro avg       0.10      0.09      0.10      9815\n",
      "weighted avg       0.68      0.68      0.68      9815\n",
      "\n",
      "\n",
      " confussion matrix:\n",
      " [[6377   16   20   12   23    6   27   14    2    2    3    9   55    0\n",
      "     0    0    0    0    0    0]\n",
      " [  37  292    0    0    0    0    7    1    1    2    1    1    1    0\n",
      "     0    0    0    0    0    0]\n",
      " [   0    0    0    0    0    0    0    0    0    0    0    0    0    0\n",
      "     0    0    0    0    0    0]\n",
      " [  15    0  153    0   10    0    0    0    0    0    0    7    0    0\n",
      "     0    0    0    0    0    0]\n",
      " [  18    0    0   70    1    0    0    6    2    0    0    0    7    0\n",
      "     0    0    0    0    0    0]\n",
      " [   0    0    0    0    0    0    0    0    0    0    0    0    0    0\n",
      "     0    0    0    0    0    0]\n",
      " [   0    0    0    0    0    0    0    0    0    0    0    0    0    0\n",
      "     0    0    0    0    0    0]\n",
      " [   0    0    0    0    0    0    0    0    0    0    0    0    0    0\n",
      "     0    0    0    0    0    0]\n",
      " [  32    1   13    8  231    1    3    3    4    9    0    5   35    0\n",
      "     0    0    0    0    0    0]\n",
      " [   0    0    0    0    0    0    0    0    0    0    0    0    0    0\n",
      "     0    0    0    0    0    0]\n",
      " [  13    7    0    2    0   30    4    1    1    0    0    0    0    0\n",
      "     0    0    0    0    0    0]\n",
      " [  35   16    0    4   10    1  195    4   10   13    5   12   65    0\n",
      "     0    0    0    0    0    0]\n",
      " [   0    0    0    0    0    0    0    0    0    0    0    0    0    0\n",
      "     0    0    0    0    0    0]\n",
      " [  26    0    0    4    0    1    5  225    0    5   14    0  141    0\n",
      "     0    0    0    0    0    0]\n",
      " [   8    0    0    2    2    2    3    2   21    2    2    0   14    0\n",
      "     0    0    0    0    0    0]\n",
      " [  24    1    1    2   14    3   35   16    6  104   12    1   74    0\n",
      "     0    0    0    0    0    0]\n",
      " [   1    0   17    0   14    0    1    7    0    0  112    4   85    0\n",
      "     0    0    0    0    0    0]\n",
      " [   5    0   11    0   13    0    1    0    0    0    7  124    3    0\n",
      "     0    0    0    0    0    0]\n",
      " [   7    0    0    1    7    0    2   18    0    4   11    2  613    0\n",
      "     0    0    0    0    0    0]\n",
      " [   0    0    0    0    0    0    0    0    0    0    0    2    0    0\n",
      "     0    0    0    0    0    0]]\n"
     ]
    },
    {
     "name": "stderr",
     "output_type": "stream",
     "text": [
      "/opt/conda/lib/python3.6/site-packages/sklearn/metrics/classification.py:1143: UndefinedMetricWarning: F-score is ill-defined and being set to 0.0 in labels with no predicted samples.\n",
      "  'precision', 'predicted', average, warn_for)\n",
      "/opt/conda/lib/python3.6/site-packages/sklearn/metrics/classification.py:1145: UndefinedMetricWarning: F-score is ill-defined and being set to 0.0 in labels with no true samples.\n",
      "  'recall', 'true', average, warn_for)\n",
      "/opt/conda/lib/python3.6/site-packages/sklearn/metrics/classification.py:1145: UndefinedMetricWarning: Recall is ill-defined and being set to 0.0 in labels with no true samples.\n",
      "  'recall', 'true', average, warn_for)\n",
      "/opt/conda/lib/python3.6/site-packages/sklearn/metrics/classification.py:1143: UndefinedMetricWarning: Precision is ill-defined and being set to 0.0 in labels with no predicted samples.\n",
      "  'precision', 'predicted', average, warn_for)\n",
      "/opt/conda/lib/python3.6/site-packages/sklearn/metrics/classification.py:1143: UndefinedMetricWarning: Precision and F-score are ill-defined and being set to 0.0 in labels with no predicted samples.\n",
      "  'precision', 'predicted', average, warn_for)\n",
      "/opt/conda/lib/python3.6/site-packages/sklearn/metrics/classification.py:1145: UndefinedMetricWarning: Recall and F-score are ill-defined and being set to 0.0 in labels with no true samples.\n",
      "  'recall', 'true', average, warn_for)\n"
     ]
    }
   ],
   "source": [
    "from sklearn.metrics import confusion_matrix,accuracy_score,f1_score \n",
    "from sklearn.metrics import recall_score,precision_score,classification_report \n",
    "print('Accuracy:', accuracy_score(y_test, y_predict_test))\n",
    "print('F1 score:', f1_score(y_test, y_predict_test,average='weighted'))\n",
    "print('Recall:', recall_score(y_test, y_predict_test,\n",
    "                              average='weighted'))\n",
    "print('Precision:', precision_score(y_test, y_predict_test,\n",
    "                                    average='weighted'))\n",
    "print('\\n clasification report:\\n', classification_report(y_test, y_predict_test))\n",
    "print('\\n confussion matrix:\\n',confusion_matrix(y_test, y_predict_test))"
   ]
  },
  {
   "cell_type": "code",
   "execution_count": 16,
   "metadata": {},
   "outputs": [],
   "source": [
    "def hoeffding_bound(Ein,N,M,confidence):\n",
    "   delta=1-confidence\n",
    "   A=np.log(2*M/delta)\n",
    "   bond=np.sqrt(A/(2*N))\n",
    "   limit=Ein-bond\n",
    "   return limit"
   ]
  },
  {
   "cell_type": "code",
   "execution_count": 17,
   "metadata": {},
   "outputs": [
    {
     "name": "stdout",
     "output_type": "stream",
     "text": [
      "0.6685121869234605\n"
     ]
    }
   ],
   "source": [
    "limit=hoeffding_bound(0.6728471667618514,98150,1,0.95)\n",
    "print(limit)"
   ]
  },
  {
   "cell_type": "code",
   "execution_count": null,
   "metadata": {},
   "outputs": [],
   "source": []
  }
 ],
 "metadata": {
  "kernelspec": {
   "display_name": "Python 3",
   "language": "python",
   "name": "python3"
  },
  "language_info": {
   "codemirror_mode": {
    "name": "ipython",
    "version": 3
   },
   "file_extension": ".py",
   "mimetype": "text/x-python",
   "name": "python",
   "nbconvert_exporter": "python",
   "pygments_lexer": "ipython3",
   "version": "3.5.2"
  }
 },
 "nbformat": 4,
 "nbformat_minor": 1
}
