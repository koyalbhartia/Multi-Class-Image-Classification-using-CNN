{
 "cells": [
  {
   "cell_type": "code",
   "execution_count": 1,
   "metadata": {
    "_cell_guid": "b1076dfc-b9ad-4769-8c92-a6c4dae69d19",
    "_uuid": "8f2839f25d086af736a60e9eeb907d3b93b6e0e5"
   },
   "outputs": [
    {
     "name": "stdout",
     "output_type": "stream",
     "text": [
      "['koko-newdata', 'iwildcam-2019-fgvc6']\n"
     ]
    }
   ],
   "source": [
    "# This Python 3 environment comes with many helpful analytics libraries installed\n",
    "# It is defined by the kaggle/python docker image: https://github.com/kaggle/docker-python\n",
    "# For example, here's several helpful packages to load in \n",
    "\n",
    "import numpy as np # linear algebra\n",
    "import pandas as pd # data processing, CSV file I/O (e.g. pd.read_csv)\n",
    "\n",
    "# Input data files are available in the \"../input/\" directory.\n",
    "# For example, running this (by clicking run or pressing Shift+Enter) will list the files in the input directory\n",
    "\n",
    "import os\n",
    "print(os.listdir(\"../input\"))\n",
    "\n",
    "# Any results you write to the current directory are saved as output."
   ]
  },
  {
   "cell_type": "code",
   "execution_count": 2,
   "metadata": {
    "_cell_guid": "79c7e3d0-c299-4dcb-8224-4455121ee9b0",
    "_uuid": "d629ff2d2480ee46fbb7e2d37f6b5fab8052498a"
   },
   "outputs": [
    {
     "name": "stderr",
     "output_type": "stream",
     "text": [
      "Using TensorFlow backend.\n"
     ]
    }
   ],
   "source": [
    "import os\n",
    "import json\n",
    "\n",
    "import numpy as np\n",
    "import pandas as pd\n",
    "import keras\n",
    "from keras import layers\n",
    "from keras.applications import DenseNet121\n",
    "from keras.callbacks import Callback, ModelCheckpoint\n",
    "from keras.preprocessing.image import ImageDataGenerator\n",
    "from keras.layers import Dense, Dropout, Activation, Flatten\n",
    "from keras.layers import Conv2D, MaxPooling2D\n",
    "from keras.models import Sequential\n",
    "from sklearn.model_selection import train_test_split\n",
    "from sklearn.metrics import confusion_matrix, f1_score, precision_score, recall_score"
   ]
  },
  {
   "cell_type": "code",
   "execution_count": 3,
   "metadata": {},
   "outputs": [
    {
     "name": "stdout",
     "output_type": "stream",
     "text": [
      "x_train shape: (98150, 32, 32, 3)\n",
      "98150 train samples\n",
      "9815 test samples\n"
     ]
    }
   ],
   "source": [
    "x_train = np.load('../input/koko-newdata/X_newtrain.npy')\n",
    "x_test = np.load('../input/koko-newdata/X_newtest.npy')\n",
    "y_train = np.load('../input/koko-newdata/y_newtrain.npy')\n",
    "\n",
    "print('x_train shape:', x_train.shape)\n",
    "print(x_train.shape[0], 'train samples')\n",
    "print(x_test.shape[0], 'test samples')"
   ]
  },
  {
   "cell_type": "code",
   "execution_count": 4,
   "metadata": {},
   "outputs": [],
   "source": [
    "x_train = x_train.astype('float32')\n",
    "x_test = x_test.astype('float32')\n",
    "x_train /= 255.\n",
    "x_test /= 255."
   ]
  },
  {
   "cell_type": "code",
   "execution_count": 5,
   "metadata": {},
   "outputs": [],
   "source": [
    "class Metrics(Callback):\n",
    "    def on_train_begin(self, logs={}):\n",
    "        self.val_f1s = []\n",
    "        self.val_recalls = []\n",
    "        self.val_precisions = []\n",
    "\n",
    "    def on_epoch_end(self, epoch, logs={}):\n",
    "        X_val, y_val = self.validation_data[:2]\n",
    "        y_pred = self.model.predict(X_val)\n",
    "\n",
    "        y_pred_cat = keras.utils.to_categorical(\n",
    "            y_pred.argmax(axis=1),\n",
    "            num_classes=14\n",
    "        )\n",
    "\n",
    "        _val_f1 = f1_score(y_val, y_pred_cat, average='macro')\n",
    "        _val_recall = recall_score(y_val, y_pred_cat, average='macro')\n",
    "        _val_precision = precision_score(y_val, y_pred_cat, average='macro')\n",
    "\n",
    "        self.val_f1s.append(_val_f1)\n",
    "        self.val_recalls.append(_val_recall)\n",
    "        self.val_precisions.append(_val_precision)\n",
    "\n",
    "        print((f\"val_f1: {_val_f1:.4f}\"\n",
    "               f\" — val_precision: {_val_precision:.4f}\"\n",
    "               f\" — val_recall: {_val_recall:.4f}\"))\n",
    "\n",
    "        return\n",
    "\n",
    "f1_metrics = Metrics()"
   ]
  },
  {
   "cell_type": "code",
   "execution_count": 6,
   "metadata": {},
   "outputs": [
    {
     "name": "stdout",
     "output_type": "stream",
     "text": [
      "WARNING:tensorflow:From /opt/conda/lib/python3.6/site-packages/tensorflow/python/framework/op_def_library.py:263: colocate_with (from tensorflow.python.framework.ops) is deprecated and will be removed in a future version.\n",
      "Instructions for updating:\n",
      "Colocations handled automatically by placer.\n",
      "WARNING:tensorflow:From /opt/conda/lib/python3.6/site-packages/keras/backend/tensorflow_backend.py:3445: calling dropout (from tensorflow.python.ops.nn_ops) with keep_prob is deprecated and will be removed in a future version.\n",
      "Instructions for updating:\n",
      "Please use `rate` instead of `keep_prob`. Rate should be set to `rate = 1 - keep_prob`.\n",
      "_________________________________________________________________\n",
      "Layer (type)                 Output Shape              Param #   \n",
      "=================================================================\n",
      "conv2d_1 (Conv2D)            (None, 32, 32, 32)        896       \n",
      "_________________________________________________________________\n",
      "conv2d_2 (Conv2D)            (None, 30, 30, 32)        9248      \n",
      "_________________________________________________________________\n",
      "activation_1 (Activation)    (None, 30, 30, 32)        0         \n",
      "_________________________________________________________________\n",
      "max_pooling2d_1 (MaxPooling2 (None, 15, 15, 32)        0         \n",
      "_________________________________________________________________\n",
      "dropout_1 (Dropout)          (None, 15, 15, 32)        0         \n",
      "_________________________________________________________________\n",
      "conv2d_3 (Conv2D)            (None, 15, 15, 64)        18496     \n",
      "_________________________________________________________________\n",
      "activation_2 (Activation)    (None, 15, 15, 64)        0         \n",
      "_________________________________________________________________\n",
      "conv2d_4 (Conv2D)            (None, 13, 13, 64)        36928     \n",
      "_________________________________________________________________\n",
      "activation_3 (Activation)    (None, 13, 13, 64)        0         \n",
      "_________________________________________________________________\n",
      "max_pooling2d_2 (MaxPooling2 (None, 6, 6, 64)          0         \n",
      "_________________________________________________________________\n",
      "dropout_2 (Dropout)          (None, 6, 6, 64)          0         \n",
      "_________________________________________________________________\n",
      "flatten_1 (Flatten)          (None, 2304)              0         \n",
      "_________________________________________________________________\n",
      "dense_1 (Dense)              (None, 512)               1180160   \n",
      "_________________________________________________________________\n",
      "activation_4 (Activation)    (None, 512)               0         \n",
      "_________________________________________________________________\n",
      "dropout_3 (Dropout)          (None, 512)               0         \n",
      "_________________________________________________________________\n",
      "dense_2 (Dense)              (None, 14)                7182      \n",
      "_________________________________________________________________\n",
      "activation_5 (Activation)    (None, 14)                0         \n",
      "=================================================================\n",
      "Total params: 1,252,910\n",
      "Trainable params: 1,252,910\n",
      "Non-trainable params: 0\n",
      "_________________________________________________________________\n"
     ]
    }
   ],
   "source": [
    "def create_Model():\n",
    "    classifier=Sequential()\n",
    "    classifier.add(Conv2D(32, kernel_size=(3, 3),padding='same',input_shape=x_train.shape[1:],activation='relu'))\n",
    "    #classifier.add(Conv2D(64, (3, 3), activation='relu'))\n",
    "    #classifier.add(ZeroPadding2D(padding=(1,1)))\n",
    "    #classifier.add(BatchNormalization())\n",
    "    #classifier.add(PReLU())\n",
    "    classifier.add(Conv2D(32, (3, 3)))\n",
    "    classifier.add(Activation('relu'))\n",
    "    classifier.add(MaxPooling2D(pool_size=(2, 2)))\n",
    "    classifier.add(Dropout(0.25))\n",
    "\n",
    "    classifier.add(Conv2D(64, (3, 3), padding='same'))\n",
    "    classifier.add(Activation('relu'))\n",
    "    classifier.add(Conv2D(64, (3, 3)))\n",
    "    classifier.add(Activation('relu'))\n",
    "    classifier.add(MaxPooling2D(pool_size=(2, 2)))\n",
    "    classifier.add(Dropout(0.25))\n",
    "\n",
    "    classifier.add(Flatten())\n",
    "    classifier.add(Dense(512))\n",
    "    classifier.add(Activation('relu'))\n",
    "    classifier.add(Dropout(0.5))\n",
    "    classifier.add(Dense(14))\n",
    "    classifier.add(Activation('softmax'))\n",
    "    return classifier\n",
    "model=create_Model()\n",
    "model.compile(loss='categorical_crossentropy',optimizer='adam',metrics=['accuracy'])\n",
    "model.summary()"
   ]
  },
  {
   "cell_type": "code",
   "execution_count": 7,
   "metadata": {},
   "outputs": [
    {
     "name": "stdout",
     "output_type": "stream",
     "text": [
      "WARNING:tensorflow:From /opt/conda/lib/python3.6/site-packages/tensorflow/python/ops/math_ops.py:3066: to_int32 (from tensorflow.python.ops.math_ops) is deprecated and will be removed in a future version.\n",
      "Instructions for updating:\n",
      "Use tf.cast instead.\n",
      "Train on 93242 samples, validate on 4908 samples\n",
      "Epoch 1/3\n",
      "93242/93242 [==============================] - 334s 4ms/step - loss: 0.7731 - acc: 0.7628 - val_loss: 0.5828 - val_acc: 0.8117\n",
      "\n",
      "Epoch 00001: val_acc improved from -inf to 0.81174, saving model to model.h5\n",
      "val_f1: 0.4167 — val_precision: 0.5390 — val_recall: 0.3985\n",
      "Epoch 2/3\n",
      "   32/93242 [..............................] - ETA: 5:35 - loss: 0.6014 - acc: 0.7812"
     ]
    },
    {
     "name": "stderr",
     "output_type": "stream",
     "text": [
      "/opt/conda/lib/python3.6/site-packages/sklearn/metrics/classification.py:1143: UndefinedMetricWarning: F-score is ill-defined and being set to 0.0 in labels with no predicted samples.\n",
      "  'precision', 'predicted', average, warn_for)\n",
      "/opt/conda/lib/python3.6/site-packages/sklearn/metrics/classification.py:1143: UndefinedMetricWarning: Precision is ill-defined and being set to 0.0 in labels with no predicted samples.\n",
      "  'precision', 'predicted', average, warn_for)\n"
     ]
    },
    {
     "name": "stdout",
     "output_type": "stream",
     "text": [
      "93242/93242 [==============================] - 332s 4ms/step - loss: 0.5744 - acc: 0.8164 - val_loss: 0.5005 - val_acc: 0.8382\n",
      "\n",
      "Epoch 00002: val_acc improved from 0.81174 to 0.83822, saving model to model.h5\n",
      "val_f1: 0.5118 — val_precision: 0.6032 — val_recall: 0.4813\n",
      "Epoch 3/3\n",
      "93242/93242 [==============================] - 333s 4ms/step - loss: 0.5092 - acc: 0.8347 - val_loss: 0.4619 - val_acc: 0.8509\n",
      "\n",
      "Epoch 00003: val_acc improved from 0.83822 to 0.85086, saving model to model.h5\n",
      "val_f1: 0.5925 — val_precision: 0.7100 — val_recall: 0.5570\n"
     ]
    }
   ],
   "source": [
    "checkpoint = ModelCheckpoint(\n",
    "    'model.h5', \n",
    "    monitor='val_acc', \n",
    "    verbose=1, \n",
    "    save_best_only=True, \n",
    "    save_weights_only=False,\n",
    "    mode='auto'\n",
    ")\n",
    "# 64,7,0.1\n",
    "history = model.fit(\n",
    "    x=x_train,\n",
    "    y=y_train,\n",
    "    batch_size=32,\n",
    "    epochs=3,\n",
    "    callbacks=[checkpoint, f1_metrics],\n",
    "    validation_split=0.05\n",
    ")"
   ]
  },
  {
   "cell_type": "code",
   "execution_count": 25,
   "metadata": {},
   "outputs": [
    {
     "data": {
      "text/plain": [
       "<matplotlib.axes._subplots.AxesSubplot at 0x7f9e282197f0>"
      ]
     },
     "execution_count": 25,
     "metadata": {},
     "output_type": "execute_result"
    },
    {
     "data": {
      "image/png": "[encoded data removed]",
      "text/plain": [
       "<Figure size 432x288 with 1 Axes>"
      ]
     },
     "metadata": {},
     "output_type": "display_data"
    },
    {
     "data": {
      "image/png": "[encoded data removed]",
      "text/plain": [
       "<Figure size 432x288 with 1 Axes>"
      ]
     },
     "metadata": {},
     "output_type": "display_data"
    },
    {
     "data": {
      "image/png": "[encoded data removed]",
      "text/plain": [
       "<Figure size 432x288 with 1 Axes>"
      ]
     },
     "metadata": {},
     "output_type": "display_data"
    }
   ],
   "source": [
    "with open('history.json', 'w') as f:\n",
    "    json.dump(history.history, f)\n",
    "\n",
    "history_df = pd.DataFrame(history.history)\n",
    "history_df['val_f1'] = f1_metrics.val_f1s\n",
    "history_df['val_precision'] = f1_metrics.val_precisions\n",
    "history_df['val_recall'] = f1_metrics.val_recalls\n",
    "history_df[['loss', 'val_loss']].plot()\n",
    "history_df[['acc', 'val_acc']].plot()\n",
    "history_df[['val_f1', 'val_precision', 'val_recall']].plot()"
   ]
  },
  {
   "cell_type": "code",
   "execution_count": 27,
   "metadata": {},
   "outputs": [],
   "source": [
    "model.load_weights('model.h5')\n",
    "y_train=np.load('../input/koko-newdata/y_coltrain.npy')\n",
    "y_predict = model.predict(x_train)\n",
    "y_predict=y_predict.argmax(axis=1)"
   ]
  },
  {
   "cell_type": "code",
   "execution_count": 28,
   "metadata": {},
   "outputs": [
    {
     "data": {
      "text/plain": [
       "array([18,  0,  0, ...,  0,  0, 11])"
      ]
     },
     "execution_count": 28,
     "metadata": {},
     "output_type": "execute_result"
    }
   ],
   "source": [
    "y_train"
   ]
  },
  {
   "cell_type": "code",
   "execution_count": 29,
   "metadata": {},
   "outputs": [
    {
     "data": {
      "text/plain": [
       "array([6, 0, 0, ..., 0, 0, 6])"
      ]
     },
     "execution_count": 29,
     "metadata": {},
     "output_type": "execute_result"
    }
   ],
   "source": [
    "y_predict"
   ]
  },
  {
   "cell_type": "code",
   "execution_count": 30,
   "metadata": {},
   "outputs": [
    {
     "name": "stdout",
     "output_type": "stream",
     "text": [
      "Accuracy: 0.6779317371370351\n",
      "F1 score: 0.6728471667618514\n",
      "Recall: 0.6779317371370351\n",
      "Precision: 0.6693551815655341\n",
      "\n",
      " clasification report:\n",
      "               precision    recall  f1-score   support\n",
      "\n",
      "           0       0.96      0.97      0.96     65650\n",
      "           1       0.84      0.84      0.84      3093\n",
      "           2       0.00      0.00      0.00         0\n",
      "           3       0.00      0.00      0.00      1660\n",
      "           4       0.01      0.03      0.02      1106\n",
      "           5       0.00      0.00      0.00         0\n",
      "           6       0.00      0.00      0.00         0\n",
      "           7       0.00      0.00      0.00         0\n",
      "           8       0.03      0.00      0.00      3529\n",
      "           9       0.00      0.00      0.00         0\n",
      "          10       0.00      0.00      0.00       529\n",
      "          11       0.03      0.01      0.02      3577\n",
      "          12       0.00      0.00      0.00         0\n",
      "          13       0.00      0.00      0.00      4286\n",
      "          14       0.00      0.00      0.00       689\n",
      "          16       0.00      0.00      0.00      3001\n",
      "          17       0.00      0.00      0.00      2393\n",
      "          18       0.00      0.00      0.00      1513\n",
      "          19       0.00      0.00      0.00      7106\n",
      "          22       0.00      0.00      0.00        18\n",
      "\n",
      "   micro avg       0.68      0.68      0.68     98150\n",
      "   macro avg       0.09      0.09      0.09     98150\n",
      "weighted avg       0.67      0.68      0.67     98150\n",
      "\n"
     ]
    },
    {
     "name": "stderr",
     "output_type": "stream",
     "text": [
      "/opt/conda/lib/python3.6/site-packages/sklearn/metrics/classification.py:1143: UndefinedMetricWarning: F-score is ill-defined and being set to 0.0 in labels with no predicted samples.\n",
      "  'precision', 'predicted', average, warn_for)\n",
      "/opt/conda/lib/python3.6/site-packages/sklearn/metrics/classification.py:1145: UndefinedMetricWarning: F-score is ill-defined and being set to 0.0 in labels with no true samples.\n",
      "  'recall', 'true', average, warn_for)\n",
      "/opt/conda/lib/python3.6/site-packages/sklearn/metrics/classification.py:1145: UndefinedMetricWarning: Recall is ill-defined and being set to 0.0 in labels with no true samples.\n",
      "  'recall', 'true', average, warn_for)\n",
      "/opt/conda/lib/python3.6/site-packages/sklearn/metrics/classification.py:1143: UndefinedMetricWarning: Precision is ill-defined and being set to 0.0 in labels with no predicted samples.\n",
      "  'precision', 'predicted', average, warn_for)\n",
      "/opt/conda/lib/python3.6/site-packages/sklearn/metrics/classification.py:1143: UndefinedMetricWarning: Precision and F-score are ill-defined and being set to 0.0 in labels with no predicted samples.\n",
      "  'precision', 'predicted', average, warn_for)\n",
      "/opt/conda/lib/python3.6/site-packages/sklearn/metrics/classification.py:1145: UndefinedMetricWarning: Recall and F-score are ill-defined and being set to 0.0 in labels with no true samples.\n",
      "  'recall', 'true', average, warn_for)\n"
     ]
    },
    {
     "name": "stdout",
     "output_type": "stream",
     "text": [
      "\n",
      " confussion matrix:\n",
      " [[63855   257   170   117   208    18   247   200     6    53    44    84\n",
      "    391     0     0     0     0     0     0     0]\n",
      " [  421  2602     0    12     1     2    43     3     0     1     0     2\n",
      "      5     1     0     0     0     0     0     0]\n",
      " [    0     0     0     0     0     0     0     0     0     0     0     0\n",
      "      0     0     0     0     0     0     0     0]\n",
      " [  216     5  1181     0   104     0    16     0     0     6    38    91\n",
      "      3     0     0     0     0     0     0     0]\n",
      " [   90     1     0   791    33     7    10   106     1    19     0     0\n",
      "     48     0     0     0     0     0     0     0]\n",
      " [    0     0     0     0     0     0     0     0     0     0     0     0\n",
      "      0     0     0     0     0     0     0     0]\n",
      " [    0     0     0     0     0     0     0     0     0     0     0     0\n",
      "      0     0     0     0     0     0     0     0]\n",
      " [    0     0     0     0     0     0     0     0     0     0     0     0\n",
      "      0     0     0     0     0     0     0     0]\n",
      " [  406    15    58    21  2355     0   151    75     4    91    57    54\n",
      "    242     0     0     0     0     0     0     0]\n",
      " [    0     0     0     0     0     0     0     0     0     0     0     0\n",
      "      0     0     0     0     0     0     0     0]\n",
      " [  186    35     0    17    11   206    32    25     1     9     0     0\n",
      "      7     0     0     0     0     0     0     0]\n",
      " [  446    98    16    15    93     6  2316   109     5   100    42    45\n",
      "    286     0     0     0     0     0     0     0]\n",
      " [    0     0     0     0     0     0     0     0     0     0     0     0\n",
      "      0     0     0     0     0     0     0     0]\n",
      " [  197     8     0    69    86     2    86  2835     7    40    69     8\n",
      "    879     0     0     0     0     0     0     0]\n",
      " [  127    24     0    10    58     5   148    74    84    17     0     0\n",
      "    142     0     0     0     0     0     0     0]\n",
      " [  371    34     6    23    57     4   542   285    11  1083    36     8\n",
      "    541     0     0     0     0     0     0     0]\n",
      " [   88     0   108     0   115     0    29    99     0    18  1084    52\n",
      "    800     0     0     0     0     0     0     0]\n",
      " [  160     2    87     0   102     0    73     1     0     3    14  1003\n",
      "     68     0     0     0     0     0     0     0]\n",
      " [  138     0     8     2    53     0   253   600     3    70   121    10\n",
      "   5848     0     0     0     0     0     0     0]\n",
      " [    8     2     0     0     0     0     1     0     0     0     0     0\n",
      "      0     7     0     0     0     0     0     0]]\n"
     ]
    }
   ],
   "source": [
    "from sklearn.metrics import confusion_matrix,accuracy_score,f1_score \n",
    "from sklearn.metrics import recall_score,precision_score,classification_report \n",
    "print('Accuracy:', accuracy_score(y_train, y_checktrain))\n",
    "print('F1 score:', f1_score(y_train, y_checktrain,average='weighted'))\n",
    "print('Recall:', recall_score(y_train, y_checktrain,\n",
    "                              average='weighted'))\n",
    "print('Precision:', precision_score(y_train, y_checktrain,\n",
    "                                    average='weighted'))\n",
    "print('\\n clasification report:\\n', classification_report(y_train, y_checktrain))\n",
    "print('\\n confussion matrix:\\n',confusion_matrix(y_train, y_checktrain))"
   ]
  },
  {
   "cell_type": "code",
   "execution_count": 33,
   "metadata": {},
   "outputs": [],
   "source": [
    "y_test=np.load('../input/koko-newdata/y_coltest.npy')\n",
    "y_predict_test = model.predict(x_test)\n",
    "y_predict_test=y_predict_test.argmax(axis=1)"
   ]
  },
  {
   "cell_type": "code",
   "execution_count": 34,
   "metadata": {},
   "outputs": [
    {
     "name": "stdout",
     "output_type": "stream",
     "text": [
      "Accuracy: 0.6772287315333673\n",
      "F1 score: 0.6720626736258773\n",
      "Recall: 0.6772287315333673\n",
      "Precision: 0.6726930146435672\n",
      "\n",
      " clasification report:\n",
      "               precision    recall  f1-score   support\n",
      "\n",
      "           0       0.95      0.97      0.96      6566\n",
      "           1       0.80      0.80      0.80       343\n",
      "           2       0.00      0.00      0.00         0\n",
      "           3       0.00      0.00      0.00       185\n",
      "           4       0.01      0.02      0.01       104\n",
      "           5       0.00      0.00      0.00         0\n",
      "           6       0.00      0.00      0.00         0\n",
      "           7       0.00      0.00      0.00         0\n",
      "           8       0.17      0.01      0.01       345\n",
      "           9       0.00      0.00      0.00         0\n",
      "          10       0.00      0.00      0.00        58\n",
      "          11       0.04      0.02      0.03       370\n",
      "          12       0.00      0.00      0.00         0\n",
      "          13       0.00      0.00      0.00       421\n",
      "          14       0.00      0.00      0.00        58\n",
      "          16       0.00      0.00      0.00       293\n",
      "          17       0.00      0.00      0.00       241\n",
      "          18       0.00      0.00      0.00       164\n",
      "          19       0.00      0.00      0.00       665\n",
      "          22       0.00      0.00      0.00         2\n",
      "\n",
      "   micro avg       0.68      0.68      0.68      9815\n",
      "   macro avg       0.10      0.09      0.09      9815\n",
      "weighted avg       0.67      0.68      0.67      9815\n",
      "\n",
      "\n",
      " confussion matrix:\n",
      " [[6363   40   17   11   19    0   31   22    3    7    2   12   39    0\n",
      "     0    0    0    0    0    0]\n",
      " [  56  273    0    1    1    1    8    0    0    0    0    1    2    0\n",
      "     0    0    0    0    0    0]\n",
      " [   0    0    0    0    0    0    0    0    0    0    0    0    0    0\n",
      "     0    0    0    0    0    0]\n",
      " [  21    1  117    0   20    0    2    0    0    0    7   17    0    0\n",
      "     0    0    0    0    0    0]\n",
      " [  13    2    0   69    2    0    4    9    0    1    0    0    4    0\n",
      "     0    0    0    0    0    0]\n",
      " [   0    0    0    0    0    0    0    0    0    0    0    0    0    0\n",
      "     0    0    0    0    0    0]\n",
      " [   0    0    0    0    0    0    0    0    0    0    0    0    0    0\n",
      "     0    0    0    0    0    0]\n",
      " [   0    0    0    0    0    0    0    0    0    0    0    0    0    0\n",
      "     0    0    0    0    0    0]\n",
      " [  40    2    9    3  219    0   10   11    2    7    4    9   29    0\n",
      "     0    0    0    0    0    0]\n",
      " [   0    0    0    0    0    0    0    0    0    0    0    0    0    0\n",
      "     0    0    0    0    0    0]\n",
      " [  17   12    0    3    1   15    5    0    0    0    0    0    5    0\n",
      "     0    0    0    0    0    0]\n",
      " [  52   11    2    4   10    0  228   10    1   10    2    7   33    0\n",
      "     0    0    0    0    0    0]\n",
      " [   0    0    0    0    0    0    0    0    0    0    0    0    0    0\n",
      "     0    0    0    0    0    0]\n",
      " [  23    1    0    5    4    1   11  282    1    2    9    0   82    0\n",
      "     0    0    0    0    0    0]\n",
      " [  13    0    0    0    6    0   14   11    4    2    0    0    8    0\n",
      "     0    0    0    0    0    0]\n",
      " [  32    0    2    4    7    0   48   35    1  101    7    3   53    0\n",
      "     0    0    0    0    0    0]\n",
      " [  14    1   14    0   14    0    5   16    0    1   96   10   70    0\n",
      "     0    0    0    0    0    0]\n",
      " [  17    0   13    0   13    0    6    0    0    1    4  103    7    0\n",
      "     0    0    0    0    0    0]\n",
      " [  16    0    2    0    5    0   24   56    0    8   14    0  540    0\n",
      "     0    0    0    0    0    0]\n",
      " [   2    0    0    0    0    0    0    0    0    0    0    0    0    0\n",
      "     0    0    0    0    0    0]]\n"
     ]
    },
    {
     "name": "stderr",
     "output_type": "stream",
     "text": [
      "/opt/conda/lib/python3.6/site-packages/sklearn/metrics/classification.py:1143: UndefinedMetricWarning: F-score is ill-defined and being set to 0.0 in labels with no predicted samples.\n",
      "  'precision', 'predicted', average, warn_for)\n",
      "/opt/conda/lib/python3.6/site-packages/sklearn/metrics/classification.py:1145: UndefinedMetricWarning: F-score is ill-defined and being set to 0.0 in labels with no true samples.\n",
      "  'recall', 'true', average, warn_for)\n",
      "/opt/conda/lib/python3.6/site-packages/sklearn/metrics/classification.py:1145: UndefinedMetricWarning: Recall is ill-defined and being set to 0.0 in labels with no true samples.\n",
      "  'recall', 'true', average, warn_for)\n",
      "/opt/conda/lib/python3.6/site-packages/sklearn/metrics/classification.py:1143: UndefinedMetricWarning: Precision is ill-defined and being set to 0.0 in labels with no predicted samples.\n",
      "  'precision', 'predicted', average, warn_for)\n",
      "/opt/conda/lib/python3.6/site-packages/sklearn/metrics/classification.py:1143: UndefinedMetricWarning: Precision and F-score are ill-defined and being set to 0.0 in labels with no predicted samples.\n",
      "  'precision', 'predicted', average, warn_for)\n",
      "/opt/conda/lib/python3.6/site-packages/sklearn/metrics/classification.py:1145: UndefinedMetricWarning: Recall and F-score are ill-defined and being set to 0.0 in labels with no true samples.\n",
      "  'recall', 'true', average, warn_for)\n"
     ]
    }
   ],
   "source": [
    "from sklearn.metrics import confusion_matrix,accuracy_score,f1_score \n",
    "from sklearn.metrics import recall_score,precision_score,classification_report \n",
    "print('Accuracy:', accuracy_score(y_test, y_predict_test))\n",
    "print('F1 score:', f1_score(y_test, y_predict_test,average='weighted'))\n",
    "print('Recall:', recall_score(y_test, y_predict_test,\n",
    "                              average='weighted'))\n",
    "print('Precision:', precision_score(y_test, y_predict_test,\n",
    "                                    average='weighted'))\n",
    "print('\\n clasification report:\\n', classification_report(y_test, y_predict_test))\n",
    "print('\\n confussion matrix:\\n',confusion_matrix(y_test, y_predict_test))"
   ]
  },
  {
   "cell_type": "code",
   "execution_count": 41,
   "metadata": {},
   "outputs": [],
   "source": [
    "def hoeffding_bound(Ein,N,M,confidence):\n",
    "   delta=1-confidence\n",
    "   A=np.log(2*M/delta)\n",
    "   bond=np.sqrt(A/(2*N))\n",
    "   limit=Ein-bond\n",
    "   return limit"
   ]
  },
  {
   "cell_type": "code",
   "execution_count": 42,
   "metadata": {},
   "outputs": [
    {
     "name": "stdout",
     "output_type": "stream",
     "text": [
      "0.6685121869234605\n"
     ]
    }
   ],
   "source": [
    "limit=hoeffding_bound(0.6728471667618514,98150,1,0.95)\n",
    "print(limit)"
   ]
  },
  {
   "cell_type": "code",
   "execution_count": null,
   "metadata": {},
   "outputs": [],
   "source": []
  }
 ],
 "metadata": {
  "kernelspec": {
   "display_name": "Python 3",
   "language": "python",
   "name": "python3"
  },
  "language_info": {
   "codemirror_mode": {
    "name": "ipython",
    "version": 3
   },
   "file_extension": ".py",
   "mimetype": "text/x-python",
   "name": "python",
   "nbconvert_exporter": "python",
   "pygments_lexer": "ipython3",
   "version": "3.5.2"
  }
 },
 "nbformat": 4,
 "nbformat_minor": 1
}
