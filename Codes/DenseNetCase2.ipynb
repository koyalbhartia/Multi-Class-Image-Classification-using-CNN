{
 "cells": [
  {
   "cell_type": "code",
   "execution_count": 1,
   "metadata": {
    "_cell_guid": "b1076dfc-b9ad-4769-8c92-a6c4dae69d19",
    "_uuid": "8f2839f25d086af736a60e9eeb907d3b93b6e0e5"
   },
   "outputs": [
    {
     "name": "stdout",
     "output_type": "stream",
     "text": [
      "['koko-newdata', 'reducing-image-sizes-to-32x32', 'iwildcam-2019-fgvc6', 'densenet']\n"
     ]
    }
   ],
   "source": [
    "# This Python 3 environment comes with many helpful analytics libraries installed\n",
    "# It is defined by the kaggle/python docker image: https://github.com/kaggle/docker-python\n",
    "# For example, here's several helpful packages to load in \n",
    "\n",
    "import numpy as np # linear algebra\n",
    "import pandas as pd # data processing, CSV file I/O (e.g. pd.read_csv)\n",
    "\n",
    "# Input data files are available in the \"../input/\" directory.\n",
    "# For example, running this (by clicking run or pressing Shift+Enter) will list the files in the input directory\n",
    "\n",
    "import os\n",
    "print(os.listdir(\"../input\"))\n",
    "\n",
    "# Any results you write to the current directory are saved as output."
   ]
  },
  {
   "cell_type": "code",
   "execution_count": 2,
   "metadata": {
    "_cell_guid": "79c7e3d0-c299-4dcb-8224-4455121ee9b0",
    "_uuid": "d629ff2d2480ee46fbb7e2d37f6b5fab8052498a"
   },
   "outputs": [
    {
     "name": "stderr",
     "output_type": "stream",
     "text": [
      "Using TensorFlow backend.\n"
     ]
    }
   ],
   "source": [
    "import os\n",
    "import json\n",
    "\n",
    "import numpy as np\n",
    "import pandas as pd\n",
    "import keras\n",
    "from keras import layers\n",
    "from keras.applications import DenseNet121\n",
    "from keras.callbacks import Callback, ModelCheckpoint\n",
    "from keras.preprocessing.image import ImageDataGenerator\n",
    "from keras.layers import Dense, Dropout, Activation, Flatten\n",
    "from keras.layers import Conv2D, MaxPooling2D\n",
    "from keras.models import Sequential\n",
    "from sklearn.model_selection import train_test_split\n",
    "from sklearn.metrics import confusion_matrix, f1_score, precision_score, recall_score"
   ]
  },
  {
   "cell_type": "code",
   "execution_count": 3,
   "metadata": {},
   "outputs": [
    {
     "name": "stdout",
     "output_type": "stream",
     "text": [
      "x_train shape: (98150, 32, 32, 3)\n",
      "98150 train samples\n",
      "9815 test samples\n"
     ]
    }
   ],
   "source": [
    "x_train = np.load('../input/koko-newdata/X_newtrain.npy')\n",
    "x_test = np.load('../input/koko-newdata/X_newtest.npy')\n",
    "#x_test = np.load('../input/reducing-image-sizes-to-32x32/X_test.npy')\n",
    "y_train = np.load('../input/koko-newdata/y_newtrain.npy')\n",
    "\n",
    "print('x_train shape:', x_train.shape)\n",
    "print(x_train.shape[0], 'train samples')\n",
    "print(x_test.shape[0], 'test samples')"
   ]
  },
  {
   "cell_type": "code",
   "execution_count": 4,
   "metadata": {},
   "outputs": [],
   "source": [
    "x_train = x_train.astype('float32')\n",
    "x_test = x_test.astype('float32')\n",
    "x_train /= 255.\n",
    "x_test /= 255."
   ]
  },
  {
   "cell_type": "code",
   "execution_count": 5,
   "metadata": {},
   "outputs": [],
   "source": [
    "class Metrics(Callback):\n",
    "    def on_train_begin(self, logs={}):\n",
    "        self.val_f1s = []\n",
    "        self.val_recalls = []\n",
    "        self.val_precisions = []\n",
    "\n",
    "    def on_epoch_end(self, epoch, logs={}):\n",
    "        X_val, y_val = self.validation_data[:2]\n",
    "        y_pred = self.model.predict(X_val)\n",
    "\n",
    "        y_pred_cat = keras.utils.to_categorical(\n",
    "            y_pred.argmax(axis=1),\n",
    "            num_classes=14\n",
    "        )\n",
    "\n",
    "        _val_f1 = f1_score(y_val, y_pred_cat, average='macro')\n",
    "        _val_recall = recall_score(y_val, y_pred_cat, average='macro')\n",
    "        _val_precision = precision_score(y_val, y_pred_cat, average='macro')\n",
    "\n",
    "        self.val_f1s.append(_val_f1)\n",
    "        self.val_recalls.append(_val_recall)\n",
    "        self.val_precisions.append(_val_precision)\n",
    "\n",
    "        print((f\"val_f1: {_val_f1:.4f}\"\n",
    "               f\" — val_precision: {_val_precision:.4f}\"\n",
    "               f\" — val_recall: {_val_recall:.4f}\"))\n",
    "\n",
    "        return\n",
    "\n",
    "f1_metrics = Metrics()"
   ]
  },
  {
   "cell_type": "code",
   "execution_count": 6,
   "metadata": {},
   "outputs": [
    {
     "name": "stdout",
     "output_type": "stream",
     "text": [
      "WARNING:tensorflow:From /opt/conda/lib/python3.6/site-packages/tensorflow/python/framework/op_def_library.py:263: colocate_with (from tensorflow.python.framework.ops) is deprecated and will be removed in a future version.\n",
      "Instructions for updating:\n",
      "Colocations handled automatically by placer.\n"
     ]
    }
   ],
   "source": [
    "densenet = DenseNet121(\n",
    "    weights='../input/densenet/DenseNet-BC-121-32-no-top.h5',\n",
    "    include_top=False,\n",
    "    input_shape=(32,32,3)\n",
    ")"
   ]
  },
  {
   "cell_type": "code",
   "execution_count": 7,
   "metadata": {},
   "outputs": [],
   "source": [
    "model = Sequential()\n",
    "model.add(densenet)\n",
    "model.add(layers.GlobalAveragePooling2D())\n",
    "model.add(layers.Dense(14, activation='softmax'))"
   ]
  },
  {
   "cell_type": "code",
   "execution_count": 8,
   "metadata": {},
   "outputs": [
    {
     "name": "stdout",
     "output_type": "stream",
     "text": [
      "_________________________________________________________________\n",
      "Layer (type)                 Output Shape              Param #   \n",
      "=================================================================\n",
      "densenet121 (Model)          (None, 1, 1, 1024)        7037504   \n",
      "_________________________________________________________________\n",
      "global_average_pooling2d_1 ( (None, 1024)              0         \n",
      "_________________________________________________________________\n",
      "dense_1 (Dense)              (None, 14)                14350     \n",
      "=================================================================\n",
      "Total params: 7,051,854\n",
      "Trainable params: 6,968,206\n",
      "Non-trainable params: 83,648\n",
      "_________________________________________________________________\n"
     ]
    }
   ],
   "source": [
    "model.compile(loss='categorical_crossentropy',\n",
    "              optimizer='adam',\n",
    "              metrics=['accuracy'])\n",
    "\n",
    "model.summary()"
   ]
  },
  {
   "cell_type": "code",
   "execution_count": 9,
   "metadata": {},
   "outputs": [
    {
     "name": "stdout",
     "output_type": "stream",
     "text": [
      "WARNING:tensorflow:From /opt/conda/lib/python3.6/site-packages/tensorflow/python/ops/math_ops.py:3066: to_int32 (from tensorflow.python.ops.math_ops) is deprecated and will be removed in a future version.\n",
      "Instructions for updating:\n",
      "Use tf.cast instead.\n",
      "Train on 24537 samples, validate on 73613 samples\n",
      "Epoch 1/4\n",
      "24537/24537 [==============================] - 864s 35ms/step - loss: 0.7624 - acc: 0.7689 - val_loss: 0.7557 - val_acc: 0.7505\n",
      "\n",
      "Epoch 00001: val_acc improved from -inf to 0.75045, saving model to model.h5\n"
     ]
    },
    {
     "name": "stderr",
     "output_type": "stream",
     "text": [
      "/opt/conda/lib/python3.6/site-packages/sklearn/metrics/classification.py:1143: UndefinedMetricWarning: F-score is ill-defined and being set to 0.0 in labels with no predicted samples.\n",
      "  'precision', 'predicted', average, warn_for)\n",
      "/opt/conda/lib/python3.6/site-packages/sklearn/metrics/classification.py:1143: UndefinedMetricWarning: Precision is ill-defined and being set to 0.0 in labels with no predicted samples.\n",
      "  'precision', 'predicted', average, warn_for)\n"
     ]
    },
    {
     "name": "stdout",
     "output_type": "stream",
     "text": [
      "val_f1: 0.3272 — val_precision: 0.3825 — val_recall: 0.3409\n",
      "Epoch 2/4\n",
      "24537/24537 [==============================] - 810s 33ms/step - loss: 0.5713 - acc: 0.8150 - val_loss: 0.7099 - val_acc: 0.7831\n",
      "\n",
      "Epoch 00002: val_acc improved from 0.75045 to 0.78311, saving model to model.h5\n",
      "val_f1: 0.3960 — val_precision: 0.4865 — val_recall: 0.4100\n",
      "Epoch 3/4\n",
      "24537/24537 [==============================] - 814s 33ms/step - loss: 0.7362 - acc: 0.7716 - val_loss: 0.7411 - val_acc: 0.7659\n",
      "\n",
      "Epoch 00003: val_acc did not improve from 0.78311\n",
      "val_f1: 0.2786 — val_precision: 0.3998 — val_recall: 0.2822\n",
      "Epoch 4/4\n",
      "24537/24537 [==============================] - 812s 33ms/step - loss: 0.5995 - acc: 0.8029 - val_loss: 0.6351 - val_acc: 0.8046\n",
      "\n",
      "Epoch 00004: val_acc improved from 0.78311 to 0.80456, saving model to model.h5\n",
      "val_f1: 0.4154 — val_precision: 0.5059 — val_recall: 0.4009\n"
     ]
    }
   ],
   "source": [
    "checkpoint = ModelCheckpoint(\n",
    "    'model.h5', \n",
    "    monitor='val_acc', \n",
    "    verbose=1, \n",
    "    save_best_only=True, \n",
    "    save_weights_only=False,\n",
    "    mode='auto'\n",
    ")\n",
    "\n",
    "history = model.fit(\n",
    "    x=x_train,\n",
    "    y=y_train,\n",
    "    batch_size=64,\n",
    "    epochs=4,\n",
    "    callbacks=[checkpoint, f1_metrics],\n",
    "    validation_split=0.75\n",
    ")"
   ]
  },
  {
   "cell_type": "code",
   "execution_count": 15,
   "metadata": {},
   "outputs": [
    {
     "data": {
      "text/plain": [
       "<matplotlib.axes._subplots.AxesSubplot at 0x7f1358defe48>"
      ]
     },
     "execution_count": 15,
     "metadata": {},
     "output_type": "execute_result"
    },
    {
     "data": {
      "image/png": "[encoded data removed]",
      "text/plain": [
       "<Figure size 432x288 with 1 Axes>"
      ]
     },
     "metadata": {},
     "output_type": "display_data"
    },
    {
     "data": {
      "image/png": "[encoded data removed]",
      "text/plain": [
       "<Figure size 432x288 with 1 Axes>"
      ]
     },
     "metadata": {},
     "output_type": "display_data"
    },
    {
     "data": {
      "image/png": "[encoded data removed]",
      "text/plain": [
       "<Figure size 432x288 with 1 Axes>"
      ]
     },
     "metadata": {},
     "output_type": "display_data"
    }
   ],
   "source": [
    "with open('history.json', 'w') as f:\n",
    "    json.dump(history.history, f)\n",
    "\n",
    "history_df = pd.DataFrame(history.history)\n",
    "history_df['val_f1'] = f1_metrics.val_f1s\n",
    "history_df['val_precision'] = f1_metrics.val_precisions\n",
    "history_df['val_recall'] = f1_metrics.val_recalls\n",
    "history_df[['loss', 'val_loss']].plot()\n",
    "history_df[['acc', 'val_acc']].plot()\n",
    "history_df[['val_f1', 'val_precision', 'val_recall']].plot()"
   ]
  },
  {
   "cell_type": "code",
   "execution_count": 11,
   "metadata": {},
   "outputs": [],
   "source": [
    "model.load_weights('model.h5')\n",
    "y_train=np.load('../input/koko-newdata/y_coltrain.npy')\n",
    "y_predict = model.predict(x_train)\n",
    "y_predict=y_predict.argmax(axis=1)"
   ]
  },
  {
   "cell_type": "code",
   "execution_count": 12,
   "metadata": {},
   "outputs": [
    {
     "name": "stdout",
     "output_type": "stream",
     "text": [
      "Accuracy: 0.6716658176260826\n",
      "F1 score: 0.6586204203990005\n",
      "Recall: 0.6716658176260826\n",
      "Precision: 0.6488682115809022\n",
      "\n",
      " clasification report:\n",
      "               precision    recall  f1-score   support\n",
      "\n",
      "           0       0.92      0.96      0.94     65650\n",
      "           1       0.76      0.75      0.75      3093\n",
      "           2       0.00      0.00      0.00         0\n",
      "           3       0.00      0.00      0.00      1660\n",
      "           4       0.02      0.05      0.03      1106\n",
      "           5       0.00      0.00      0.00         0\n",
      "           6       0.00      0.00      0.00         0\n",
      "           7       0.00      0.00      0.00         0\n",
      "           8       0.11      0.01      0.03      3529\n",
      "           9       0.00      0.00      0.00         0\n",
      "          10       0.00      0.00      0.00       529\n",
      "          11       0.08      0.06      0.07      3577\n",
      "          12       0.00      0.00      0.00         0\n",
      "          13       0.00      0.00      0.00      4286\n",
      "          14       0.00      0.00      0.00       689\n",
      "          16       0.00      0.00      0.00      3001\n",
      "          17       0.00      0.00      0.00      2393\n",
      "          18       0.00      0.00      0.00      1513\n",
      "          19       0.00      0.00      0.00      7106\n",
      "          22       0.00      0.00      0.00        18\n",
      "\n",
      "   micro avg       0.67      0.67      0.67     98150\n",
      "   macro avg       0.09      0.09      0.09     98150\n",
      "weighted avg       0.65      0.67      0.66     98150\n",
      "\n"
     ]
    },
    {
     "name": "stderr",
     "output_type": "stream",
     "text": [
      "/opt/conda/lib/python3.6/site-packages/sklearn/metrics/classification.py:1143: UndefinedMetricWarning: F-score is ill-defined and being set to 0.0 in labels with no predicted samples.\n",
      "  'precision', 'predicted', average, warn_for)\n",
      "/opt/conda/lib/python3.6/site-packages/sklearn/metrics/classification.py:1145: UndefinedMetricWarning: F-score is ill-defined and being set to 0.0 in labels with no true samples.\n",
      "  'recall', 'true', average, warn_for)\n",
      "/opt/conda/lib/python3.6/site-packages/sklearn/metrics/classification.py:1145: UndefinedMetricWarning: Recall is ill-defined and being set to 0.0 in labels with no true samples.\n",
      "  'recall', 'true', average, warn_for)\n",
      "/opt/conda/lib/python3.6/site-packages/sklearn/metrics/classification.py:1143: UndefinedMetricWarning: Precision is ill-defined and being set to 0.0 in labels with no predicted samples.\n",
      "  'precision', 'predicted', average, warn_for)\n",
      "/opt/conda/lib/python3.6/site-packages/sklearn/metrics/classification.py:1143: UndefinedMetricWarning: Precision and F-score are ill-defined and being set to 0.0 in labels with no predicted samples.\n",
      "  'precision', 'predicted', average, warn_for)\n",
      "/opt/conda/lib/python3.6/site-packages/sklearn/metrics/classification.py:1145: UndefinedMetricWarning: Recall and F-score are ill-defined and being set to 0.0 in labels with no true samples.\n",
      "  'recall', 'true', average, warn_for)\n"
     ]
    },
    {
     "name": "stdout",
     "output_type": "stream",
     "text": [
      "\n",
      " confussion matrix:\n",
      " [[63283   351   126    46   222    30    87   236    75    85    31   593\n",
      "    485     0     0     0     0     0     0     0]\n",
      " [  590  2317     0     6     9     1    39    44    49     8     0    23\n",
      "      7     0     0     0     0     0     0     0]\n",
      " [    0     0     0     0     0     0     0     0     0     0     0     0\n",
      "      0     0     0     0     0     0     0     0]\n",
      " [  338     3   644     0   191     0    15     0     0     3    71   384\n",
      "     11     0     0     0     0     0     0     0]\n",
      " [  363     8     0   176    58    31     1   311    92    36     0     1\n",
      "     29     0     0     0     0     0     0     0]\n",
      " [    0     0     0     0     0     0     0     0     0     0     0     0\n",
      "      0     0     0     0     0     0     0     0]\n",
      " [    0     0     0     0     0     0     0     0     0     0     0     0\n",
      "      0     0     0     0     0     0     0     0]\n",
      " [    0     0     0     0     0     0     0     0     0     0     0     0\n",
      "      0     0     0     0     0     0     0     0]\n",
      " [  828    40   199     1  1462     1    72   142    51   128    87   199\n",
      "    319     0     0     0     0     0     0     0]\n",
      " [    0     0     0     0     0     0     0     0     0     0     0     0\n",
      "      0     0     0     0     0     0     0     0]\n",
      " [  262    44     0     1    20    75    32    52    34     5     0     2\n",
      "      2     0     0     0     0     0     0     0]\n",
      " [  974   197    40    10   155     4   928   182    57   279     5   215\n",
      "    531     0     0     0     0     0     0     0]\n",
      " [    0     0     0     0     0     0     0     0     0     0     0     0\n",
      "      0     0     0     0     0     0     0     0]\n",
      " [  384     0     5     0    57     3    13  2634     1   140     0     5\n",
      "   1044     0     0     0     0     0     0     0]\n",
      " [  185    19     0     1    10     2    89    62   109    36     0     3\n",
      "    173     0     0     0     0     0     0     0]\n",
      " [  623    68     9     3    44    26   356   192    16   803    13   143\n",
      "    705     0     0     0     0     0     0     0]\n",
      " [   93     2   226     0   147     0    53   242     0    14   531   131\n",
      "    954     0     0     0     0     0     0     0]\n",
      " [  148    12   135     0    89     0    43    42     0    15    20   923\n",
      "     86     0     0     0     0     0     0     0]\n",
      " [  411     2     5     0    50     0    19   918     0   154    13    12\n",
      "   5522     0     0     0     0     0     0     0]\n",
      " [    8     1     0     0     0     0     2     0     0     0     0     7\n",
      "      0     0     0     0     0     0     0     0]]\n"
     ]
    }
   ],
   "source": [
    "from sklearn.metrics import confusion_matrix,accuracy_score,f1_score \n",
    "from sklearn.metrics import recall_score,precision_score,classification_report \n",
    "print('Accuracy:', accuracy_score(y_train, y_predict))\n",
    "print('F1 score:', f1_score(y_train, y_predict,average='weighted'))\n",
    "print('Recall:', recall_score(y_train, y_predict,\n",
    "                              average='weighted'))\n",
    "print('Precision:', precision_score(y_train, y_predict,\n",
    "                                    average='weighted'))\n",
    "print('\\n clasification report:\\n', classification_report(y_train, y_predict))\n",
    "print('\\n confussion matrix:\\n',confusion_matrix(y_train, y_predict))"
   ]
  },
  {
   "cell_type": "code",
   "execution_count": 13,
   "metadata": {},
   "outputs": [],
   "source": [
    "y_test=np.load('../input/koko-newdata/y_coltest.npy')\n",
    "y_predict_test = model.predict(x_test)\n",
    "y_predict_test=y_predict_test.argmax(axis=1)"
   ]
  },
  {
   "cell_type": "code",
   "execution_count": 14,
   "metadata": {},
   "outputs": [
    {
     "name": "stdout",
     "output_type": "stream",
     "text": [
      "Accuracy: 0.6728476821192053\n",
      "F1 score: 0.6589630623588139\n",
      "Recall: 0.6728476821192053\n",
      "Precision: 0.6484037458626973\n",
      "\n",
      " clasification report:\n",
      "               precision    recall  f1-score   support\n",
      "\n",
      "           0       0.92      0.96      0.94      6566\n",
      "           1       0.74      0.72      0.73       343\n",
      "           2       0.00      0.00      0.00         0\n",
      "           3       0.00      0.00      0.00       185\n",
      "           4       0.02      0.04      0.02       104\n",
      "           5       0.00      0.00      0.00         0\n",
      "           6       0.00      0.00      0.00         0\n",
      "           7       0.00      0.00      0.00         0\n",
      "           8       0.10      0.01      0.02       345\n",
      "           9       0.00      0.00      0.00         0\n",
      "          10       0.00      0.00      0.00        58\n",
      "          11       0.11      0.09      0.10       370\n",
      "          12       0.00      0.00      0.00         0\n",
      "          13       0.00      0.00      0.00       421\n",
      "          14       0.00      0.00      0.00        58\n",
      "          16       0.00      0.00      0.00       293\n",
      "          17       0.00      0.00      0.00       241\n",
      "          18       0.00      0.00      0.00       164\n",
      "          19       0.00      0.00      0.00       665\n",
      "          22       0.00      0.00      0.00         2\n",
      "\n",
      "   micro avg       0.67      0.67      0.67      9815\n",
      "   macro avg       0.09      0.09      0.09      9815\n",
      "weighted avg       0.65      0.67      0.66      9815\n",
      "\n",
      "\n",
      " confussion matrix:\n",
      " [[6313   40   18    4   17    1    7   30    6    7    3   64   56    0\n",
      "     0    0    0    0    0    0]\n",
      " [  80  248    0    0    0    0    4    2    5    0    0    2    2    0\n",
      "     0    0    0    0    0    0]\n",
      " [   0    0    0    0    0    0    0    0    0    0    0    0    0    0\n",
      "     0    0    0    0    0    0]\n",
      " [  33    1   61    0   26    0    0    0    0    0    8   55    1    0\n",
      "     0    0    0    0    0    0]\n",
      " [  34    3    0   14    4    1    0   37    8    2    0    0    1    0\n",
      "     0    0    0    0    0    0]\n",
      " [   0    0    0    0    0    0    0    0    0    0    0    0    0    0\n",
      "     0    0    0    0    0    0]\n",
      " [   0    0    0    0    0    0    0    0    0    0    0    0    0    0\n",
      "     0    0    0    0    0    0]\n",
      " [   0    0    0    0    0    0    0    0    0    0    0    0    0    0\n",
      "     0    0    0    0    0    0]\n",
      " [  92    2   18    0  142    0    4   10    4    9    8   20   36    0\n",
      "     0    0    0    0    0    0]\n",
      " [   0    0    0    0    0    0    0    0    0    0    0    0    0    0\n",
      "     0    0    0    0    0    0]\n",
      " [  25   12    0    0    1   10    0    5    4    0    0    0    1    0\n",
      "     0    0    0    0    0    0]\n",
      " [  94   19    5    3   14    1   91   20    5   29    0   35   54    0\n",
      "     0    0    0    0    0    0]\n",
      " [   0    0    0    0    0    0    0    0    0    0    0    0    0    0\n",
      "     0    0    0    0    0    0]\n",
      " [  46    0    1    0    4    0    1  253    0   12    0    1  103    0\n",
      "     0    0    0    0    0    0]\n",
      " [  23    3    0    0    1    0    4    5    7    5    0    0   10    0\n",
      "     0    0    0    0    0    0]\n",
      " [  58    7    1    0    6    3   27   21    0   84    1   16   69    0\n",
      "     0    0    0    0    0    0]\n",
      " [  13    2   20    0   17    0    6   24    0    2   40   19   98    0\n",
      "     0    0    0    0    0    0]\n",
      " [  14    0   13    0   13    0    2    3    0    2    4  106    7    0\n",
      "     0    0    0    0    0    0]\n",
      " [  42    0    1    0    5    0    1   94    0    8    3    5  506    0\n",
      "     0    0    0    0    0    0]\n",
      " [   2    0    0    0    0    0    0    0    0    0    0    0    0    0\n",
      "     0    0    0    0    0    0]]\n"
     ]
    },
    {
     "name": "stderr",
     "output_type": "stream",
     "text": [
      "/opt/conda/lib/python3.6/site-packages/sklearn/metrics/classification.py:1143: UndefinedMetricWarning: F-score is ill-defined and being set to 0.0 in labels with no predicted samples.\n",
      "  'precision', 'predicted', average, warn_for)\n",
      "/opt/conda/lib/python3.6/site-packages/sklearn/metrics/classification.py:1145: UndefinedMetricWarning: F-score is ill-defined and being set to 0.0 in labels with no true samples.\n",
      "  'recall', 'true', average, warn_for)\n",
      "/opt/conda/lib/python3.6/site-packages/sklearn/metrics/classification.py:1145: UndefinedMetricWarning: Recall is ill-defined and being set to 0.0 in labels with no true samples.\n",
      "  'recall', 'true', average, warn_for)\n",
      "/opt/conda/lib/python3.6/site-packages/sklearn/metrics/classification.py:1143: UndefinedMetricWarning: Precision is ill-defined and being set to 0.0 in labels with no predicted samples.\n",
      "  'precision', 'predicted', average, warn_for)\n",
      "/opt/conda/lib/python3.6/site-packages/sklearn/metrics/classification.py:1143: UndefinedMetricWarning: Precision and F-score are ill-defined and being set to 0.0 in labels with no predicted samples.\n",
      "  'precision', 'predicted', average, warn_for)\n",
      "/opt/conda/lib/python3.6/site-packages/sklearn/metrics/classification.py:1145: UndefinedMetricWarning: Recall and F-score are ill-defined and being set to 0.0 in labels with no true samples.\n",
      "  'recall', 'true', average, warn_for)\n"
     ]
    }
   ],
   "source": [
    "from sklearn.metrics import confusion_matrix,accuracy_score,f1_score \n",
    "from sklearn.metrics import recall_score,precision_score,classification_report \n",
    "print('Accuracy:', accuracy_score(y_test, y_predict_test))\n",
    "print('F1 score:', f1_score(y_test, y_predict_test,average='weighted'))\n",
    "print('Recall:', recall_score(y_test, y_predict_test,\n",
    "                              average='weighted'))\n",
    "print('Precision:', precision_score(y_test, y_predict_test,\n",
    "                                    average='weighted'))\n",
    "print('\\n clasification report:\\n', classification_report(y_test, y_predict_test))\n",
    "print('\\n confussion matrix:\\n',confusion_matrix(y_test, y_predict_test))"
   ]
  },
  {
   "cell_type": "code",
   "execution_count": 16,
   "metadata": {},
   "outputs": [],
   "source": [
    "def hoeffding_bound(Ein,N,M,confidence):\n",
    "   delta=1-confidence\n",
    "   A=np.log(2*M/delta)\n",
    "   bond=np.sqrt(A/(2*N))\n",
    "   limit=Ein-bond\n",
    "   return limit"
   ]
  },
  {
   "cell_type": "code",
   "execution_count": 17,
   "metadata": {},
   "outputs": [
    {
     "name": "stdout",
     "output_type": "stream",
     "text": [
      "0.6542854405606096\n"
     ]
    }
   ],
   "source": [
    "limit=hoeffding_bound(0.6586204203990005,98150,1,0.95)\n",
    "print(limit)"
   ]
  },
  {
   "cell_type": "code",
   "execution_count": null,
   "metadata": {},
   "outputs": [],
   "source": []
  }
 ],
 "metadata": {
  "kernelspec": {
   "display_name": "Python 3",
   "language": "python",
   "name": "python3"
  },
  "language_info": {
   "codemirror_mode": {
    "name": "ipython",
    "version": 3
   },
   "file_extension": ".py",
   "mimetype": "text/x-python",
   "name": "python",
   "nbconvert_exporter": "python",
   "pygments_lexer": "ipython3",
   "version": "3.5.2"
  }
 },
 "nbformat": 4,
 "nbformat_minor": 1
}
