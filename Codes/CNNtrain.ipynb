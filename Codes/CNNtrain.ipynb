{
 "cells": [
  {
   "cell_type": "code",
   "execution_count": 2,
   "metadata": {
    "_cell_guid": "b1076dfc-b9ad-4769-8c92-a6c4dae69d19",
    "_uuid": "8f2839f25d086af736a60e9eeb907d3b93b6e0e5"
   },
   "outputs": [
    {
     "name": "stdout",
     "output_type": "stream",
     "text": [
      "['koko-data', 'reducing-image-sizes-to-32x32', 'iwildcam-2019-fgvc6']\n"
     ]
    }
   ],
   "source": [
    "# This Python 3 environment comes with many helpful analytics libraries installed\n",
    "# It is defined by the kaggle/python docker image: https://github.com/kaggle/docker-python\n",
    "# For example, here's several helpful packages to load in \n",
    "\n",
    "import numpy as np # linear algebra\n",
    "import pandas as pd # data processing, CSV file I/O (e.g. pd.read_csv)\n",
    "\n",
    "# Input data files are available in the \"../input/\" directory.\n",
    "# For example, running this (by clicking run or pressing Shift+Enter) will list the files in the input directory\n",
    "\n",
    "import os\n",
    "print(os.listdir(\"../input\"))\n",
    "\n",
    "# Any results you write to the current directory are saved as output."
   ]
  },
  {
   "cell_type": "code",
   "execution_count": 3,
   "metadata": {
    "_cell_guid": "79c7e3d0-c299-4dcb-8224-4455121ee9b0",
    "_uuid": "d629ff2d2480ee46fbb7e2d37f6b5fab8052498a"
   },
   "outputs": [
    {
     "name": "stderr",
     "output_type": "stream",
     "text": [
      "Using TensorFlow backend.\n"
     ]
    }
   ],
   "source": [
    "import os\n",
    "import json\n",
    "\n",
    "import numpy as np\n",
    "import pandas as pd\n",
    "import keras\n",
    "from keras import layers\n",
    "from keras.applications import DenseNet121\n",
    "from keras.callbacks import Callback, ModelCheckpoint\n",
    "from keras.preprocessing.image import ImageDataGenerator\n",
    "from keras.layers import Dense, Dropout, Activation, Flatten\n",
    "from keras.layers import Conv2D, MaxPooling2D\n",
    "from keras.models import Sequential\n",
    "from sklearn.model_selection import train_test_split\n",
    "from sklearn.metrics import confusion_matrix, f1_score, precision_score, recall_score"
   ]
  },
  {
   "cell_type": "code",
   "execution_count": 7,
   "metadata": {},
   "outputs": [
    {
     "name": "stdout",
     "output_type": "stream",
     "text": [
      "x_train shape: (196299, 32, 32, 3)\n",
      "196299 train samples\n",
      "153730 test samples\n"
     ]
    }
   ],
   "source": [
    "x_train = np.load('../input/koko-data/X_train.npy')\n",
    "x_test = np.load('../input/koko-data/X_test.npy')\n",
    "y_train = np.load('../input/koko-data/y_train.npy')\n",
    "\n",
    "print('x_train shape:', x_train.shape)\n",
    "print(x_train.shape[0], 'train samples')\n",
    "print(x_test.shape[0], 'test samples')"
   ]
  },
  {
   "cell_type": "code",
   "execution_count": 8,
   "metadata": {},
   "outputs": [],
   "source": [
    "x_train = x_train.astype('float32')\n",
    "x_test = x_test.astype('float32')\n",
    "x_train /= 255.\n",
    "x_test /= 255."
   ]
  },
  {
   "cell_type": "code",
   "execution_count": 9,
   "metadata": {},
   "outputs": [],
   "source": [
    "class Metrics(Callback):\n",
    "    def on_train_begin(self, logs={}):\n",
    "        self.val_f1s = []\n",
    "        self.val_recalls = []\n",
    "        self.val_precisions = []\n",
    "\n",
    "    def on_epoch_end(self, epoch, logs={}):\n",
    "        X_val, y_val = self.validation_data[:2]\n",
    "        y_pred = self.model.predict(X_val)\n",
    "\n",
    "        y_pred_cat = keras.utils.to_categorical(\n",
    "            y_pred.argmax(axis=1),\n",
    "            num_classes=14\n",
    "        )\n",
    "\n",
    "        _val_f1 = f1_score(y_val, y_pred_cat, average='macro')\n",
    "        _val_recall = recall_score(y_val, y_pred_cat, average='macro')\n",
    "        _val_precision = precision_score(y_val, y_pred_cat, average='macro')\n",
    "\n",
    "        self.val_f1s.append(_val_f1)\n",
    "        self.val_recalls.append(_val_recall)\n",
    "        self.val_precisions.append(_val_precision)\n",
    "\n",
    "        print((f\"val_f1: {_val_f1:.4f}\"\n",
    "               f\" — val_precision: {_val_precision:.4f}\"\n",
    "               f\" — val_recall: {_val_recall:.4f}\"))\n",
    "\n",
    "        return\n",
    "\n",
    "f1_metrics = Metrics()"
   ]
  },
  {
   "cell_type": "code",
   "execution_count": 11,
   "metadata": {},
   "outputs": [
    {
     "name": "stdout",
     "output_type": "stream",
     "text": [
      "WARNING:tensorflow:From /opt/conda/lib/python3.6/site-packages/tensorflow/python/framework/op_def_library.py:263: colocate_with (from tensorflow.python.framework.ops) is deprecated and will be removed in a future version.\n",
      "Instructions for updating:\n",
      "Colocations handled automatically by placer.\n",
      "WARNING:tensorflow:From /opt/conda/lib/python3.6/site-packages/keras/backend/tensorflow_backend.py:3445: calling dropout (from tensorflow.python.ops.nn_ops) with keep_prob is deprecated and will be removed in a future version.\n",
      "Instructions for updating:\n",
      "Please use `rate` instead of `keep_prob`. Rate should be set to `rate = 1 - keep_prob`.\n",
      "_________________________________________________________________\n",
      "Layer (type)                 Output Shape              Param #   \n",
      "=================================================================\n",
      "conv2d_1 (Conv2D)            (None, 32, 32, 32)        896       \n",
      "_________________________________________________________________\n",
      "conv2d_2 (Conv2D)            (None, 30, 30, 32)        9248      \n",
      "_________________________________________________________________\n",
      "activation_1 (Activation)    (None, 30, 30, 32)        0         \n",
      "_________________________________________________________________\n",
      "max_pooling2d_1 (MaxPooling2 (None, 15, 15, 32)        0         \n",
      "_________________________________________________________________\n",
      "dropout_1 (Dropout)          (None, 15, 15, 32)        0         \n",
      "_________________________________________________________________\n",
      "conv2d_3 (Conv2D)            (None, 15, 15, 64)        18496     \n",
      "_________________________________________________________________\n",
      "activation_2 (Activation)    (None, 15, 15, 64)        0         \n",
      "_________________________________________________________________\n",
      "conv2d_4 (Conv2D)            (None, 13, 13, 64)        36928     \n",
      "_________________________________________________________________\n",
      "activation_3 (Activation)    (None, 13, 13, 64)        0         \n",
      "_________________________________________________________________\n",
      "max_pooling2d_2 (MaxPooling2 (None, 6, 6, 64)          0         \n",
      "_________________________________________________________________\n",
      "dropout_2 (Dropout)          (None, 6, 6, 64)          0         \n",
      "_________________________________________________________________\n",
      "flatten_1 (Flatten)          (None, 2304)              0         \n",
      "_________________________________________________________________\n",
      "dense_1 (Dense)              (None, 512)               1180160   \n",
      "_________________________________________________________________\n",
      "activation_4 (Activation)    (None, 512)               0         \n",
      "_________________________________________________________________\n",
      "dropout_3 (Dropout)          (None, 512)               0         \n",
      "_________________________________________________________________\n",
      "dense_2 (Dense)              (None, 14)                7182      \n",
      "_________________________________________________________________\n",
      "activation_5 (Activation)    (None, 14)                0         \n",
      "=================================================================\n",
      "Total params: 1,252,910\n",
      "Trainable params: 1,252,910\n",
      "Non-trainable params: 0\n",
      "_________________________________________________________________\n"
     ]
    }
   ],
   "source": [
    "def create_Model():\n",
    "    classifier=Sequential()\n",
    "    classifier.add(Conv2D(32, kernel_size=(3, 3),padding='same',input_shape=x_train.shape[1:],activation='relu'))\n",
    "    #classifier.add(Conv2D(64, (3, 3), activation='relu'))\n",
    "    #classifier.add(ZeroPadding2D(padding=(1,1)))\n",
    "    #classifier.add(BatchNormalization())\n",
    "    #classifier.add(PReLU())\n",
    "    classifier.add(Conv2D(32, (3, 3)))\n",
    "    classifier.add(Activation('relu'))\n",
    "    classifier.add(MaxPooling2D(pool_size=(2, 2)))\n",
    "    classifier.add(Dropout(0.25))\n",
    "\n",
    "    classifier.add(Conv2D(64, (3, 3), padding='same'))\n",
    "    classifier.add(Activation('relu'))\n",
    "    classifier.add(Conv2D(64, (3, 3)))\n",
    "    classifier.add(Activation('relu'))\n",
    "    classifier.add(MaxPooling2D(pool_size=(2, 2)))\n",
    "    classifier.add(Dropout(0.25))\n",
    "\n",
    "    classifier.add(Flatten())\n",
    "    classifier.add(Dense(512))\n",
    "    classifier.add(Activation('relu'))\n",
    "    classifier.add(Dropout(0.5))\n",
    "    classifier.add(Dense(14))\n",
    "    classifier.add(Activation('softmax'))\n",
    "    return classifier\n",
    "model=create_Model()\n",
    "model.compile(loss='categorical_crossentropy',optimizer='adam',metrics=['accuracy'])\n",
    "model.summary()"
   ]
  },
  {
   "cell_type": "code",
   "execution_count": 12,
   "metadata": {},
   "outputs": [
    {
     "name": "stdout",
     "output_type": "stream",
     "text": [
      "WARNING:tensorflow:From /opt/conda/lib/python3.6/site-packages/tensorflow/python/ops/math_ops.py:3066: to_int32 (from tensorflow.python.ops.math_ops) is deprecated and will be removed in a future version.\n",
      "Instructions for updating:\n",
      "Use tf.cast instead.\n",
      "Train on 176669 samples, validate on 19630 samples\n",
      "Epoch 1/7\n",
      "176669/176669 [==============================] - 684s 4ms/step - loss: 0.7107 - acc: 0.7789 - val_loss: 0.4987 - val_acc: 0.8403\n",
      "\n",
      "Epoch 00001: val_acc improved from -inf to 0.84035, saving model to model.h5\n"
     ]
    },
    {
     "name": "stderr",
     "output_type": "stream",
     "text": [
      "/opt/conda/lib/python3.6/site-packages/sklearn/metrics/classification.py:1143: UndefinedMetricWarning: F-score is ill-defined and being set to 0.0 in labels with no predicted samples.\n",
      "  'precision', 'predicted', average, warn_for)\n",
      "/opt/conda/lib/python3.6/site-packages/sklearn/metrics/classification.py:1143: UndefinedMetricWarning: Precision is ill-defined and being set to 0.0 in labels with no predicted samples.\n",
      "  'precision', 'predicted', average, warn_for)\n"
     ]
    },
    {
     "name": "stdout",
     "output_type": "stream",
     "text": [
      "val_f1: 0.4947 — val_precision: 0.6020 — val_recall: 0.4711\n",
      "Epoch 2/7\n",
      "176669/176669 [==============================] - 681s 4ms/step - loss: 0.5111 - acc: 0.8343 - val_loss: 0.4120 - val_acc: 0.8640\n",
      "\n",
      "Epoch 00002: val_acc improved from 0.84035 to 0.86403, saving model to model.h5\n",
      "val_f1: 0.6313 — val_precision: 0.7207 — val_recall: 0.5964\n",
      "Epoch 3/7\n",
      "176669/176669 [==============================] - 677s 4ms/step - loss: 0.4533 - acc: 0.8517 - val_loss: 0.3673 - val_acc: 0.8788\n",
      "\n",
      "Epoch 00003: val_acc improved from 0.86403 to 0.87876, saving model to model.h5\n",
      "val_f1: 0.6997 — val_precision: 0.7436 — val_recall: 0.6875\n",
      "Epoch 4/7\n",
      "176669/176669 [==============================] - 680s 4ms/step - loss: 0.4165 - acc: 0.8622 - val_loss: 0.3460 - val_acc: 0.8835\n",
      "\n",
      "Epoch 00004: val_acc improved from 0.87876 to 0.88349, saving model to model.h5\n",
      "val_f1: 0.7158 — val_precision: 0.7629 — val_recall: 0.6972\n",
      "Epoch 5/7\n",
      "176669/176669 [==============================] - 680s 4ms/step - loss: 0.3924 - acc: 0.8694 - val_loss: 0.3381 - val_acc: 0.8880\n",
      "\n",
      "Epoch 00005: val_acc improved from 0.88349 to 0.88798, saving model to model.h5\n",
      "val_f1: 0.7302 — val_precision: 0.7852 — val_recall: 0.7061\n",
      "Epoch 6/7\n",
      "176669/176669 [==============================] - 679s 4ms/step - loss: 0.3739 - acc: 0.8753 - val_loss: 0.3052 - val_acc: 0.9006\n",
      "\n",
      "Epoch 00006: val_acc improved from 0.88798 to 0.90061, saving model to model.h5\n",
      "val_f1: 0.7645 — val_precision: 0.7863 — val_recall: 0.7571\n",
      "Epoch 7/7\n",
      "176669/176669 [==============================] - 680s 4ms/step - loss: 0.3572 - acc: 0.8798 - val_loss: 0.2961 - val_acc: 0.9017\n",
      "\n",
      "Epoch 00007: val_acc improved from 0.90061 to 0.90173, saving model to model.h5\n",
      "val_f1: 0.7685 — val_precision: 0.8003 — val_recall: 0.7558\n"
     ]
    }
   ],
   "source": [
    "checkpoint = ModelCheckpoint(\n",
    "    'model.h5', \n",
    "    monitor='val_acc', \n",
    "    verbose=1, \n",
    "    save_best_only=True, \n",
    "    save_weights_only=False,\n",
    "    mode='auto'\n",
    ")\n",
    "\n",
    "history = model.fit(\n",
    "    x=x_train,\n",
    "    y=y_train,\n",
    "    batch_size=64,\n",
    "    epochs=7,\n",
    "    callbacks=[checkpoint, f1_metrics],\n",
    "    validation_split=0.1\n",
    ")"
   ]
  },
  {
   "cell_type": "code",
   "execution_count": 13,
   "metadata": {},
   "outputs": [
    {
     "data": {
      "text/plain": [
       "<matplotlib.axes._subplots.AxesSubplot at 0x7f63d871a208>"
      ]
     },
     "execution_count": 13,
     "metadata": {},
     "output_type": "execute_result"
    },
    {
     "data": {
      "image/png": "[encoded data removed]",
      "text/plain": [
       "<Figure size 432x288 with 1 Axes>"
      ]
     },
     "metadata": {},
     "output_type": "display_data"
    },
    {
     "data": {
      "image/png": "[encoded data removed]",
      "text/plain": [
       "<Figure size 432x288 with 1 Axes>"
      ]
     },
     "metadata": {},
     "output_type": "display_data"
    },
    {
     "data": {
      "image/png": "[encoded data removed]",
      "text/plain": [
       "<Figure size 432x288 with 1 Axes>"
      ]
     },
     "metadata": {},
     "output_type": "display_data"
    }
   ],
   "source": [
    "with open('history.json', 'w') as f:\n",
    "    json.dump(history.history, f)\n",
    "\n",
    "history_df = pd.DataFrame(history.history)\n",
    "history_df['val_f1'] = f1_metrics.val_f1s\n",
    "history_df['val_precision'] = f1_metrics.val_precisions\n",
    "history_df['val_recall'] = f1_metrics.val_recalls\n",
    "history_df[['loss', 'val_loss']].plot()\n",
    "history_df[['acc', 'val_acc']].plot()\n",
    "history_df[['val_f1', 'val_precision', 'val_recall']].plot()"
   ]
  },
  {
   "cell_type": "code",
   "execution_count": 14,
   "metadata": {},
   "outputs": [],
   "source": [
    "model.load_weights('model.h5')\n",
    "y_test = model.predict(x_test)\n",
    "\n",
    "submission_df = pd.read_csv('../input/iwildcam-2019-fgvc6/sample_submission.csv')\n",
    "submission_df['Predicted'] = y_test.argmax(axis=1)"
   ]
  },
  {
   "cell_type": "code",
   "execution_count": 15,
   "metadata": {},
   "outputs": [],
   "source": [
    "submission_df.to_csv('submission.csv',index=False)"
   ]
  },
  {
   "cell_type": "code",
   "execution_count": null,
   "metadata": {},
   "outputs": [],
   "source": []
  }
 ],
 "metadata": {
  "kernelspec": {
   "display_name": "Python 3",
   "language": "python",
   "name": "python3"
  },
  "language_info": {
   "codemirror_mode": {
    "name": "ipython",
    "version": 3
   },
   "file_extension": ".py",
   "mimetype": "text/x-python",
   "name": "python",
   "nbconvert_exporter": "python",
   "pygments_lexer": "ipython3",
   "version": "3.5.2"
  }
 },
 "nbformat": 4,
 "nbformat_minor": 1
}
